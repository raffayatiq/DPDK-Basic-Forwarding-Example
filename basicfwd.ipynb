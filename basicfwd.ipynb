{
 "cells": [
  {
   "cell_type": "markdown",
   "id": "0856aa4b-7130-46b4-878b-01d2d8c29691",
   "metadata": {},
   "source": [
    "# vfio-pci"
   ]
  },
  {
   "cell_type": "code",
   "execution_count": 61,
   "id": "38b77bf1-57bf-4bf9-86a6-83a0635294ce",
   "metadata": {},
   "outputs": [
    {
     "name": "stdout",
     "output_type": "stream",
     "text": [
      "\n",
      "Retry: 7, Time: 200 sec\n"
     ]
    },
    {
     "data": {
      "text/html": [
       "<style type=\"text/css\">\n",
       "#T_c528e tr:nth-child(even) {\n",
       "  background: #dbf3ff;\n",
       "  color: #231f20;\n",
       "}\n",
       "#T_c528e tr:nth-child(odd) {\n",
       "  background: #ffffff;\n",
       "  color: #231f20;\n",
       "}\n",
       "#T_c528e caption {\n",
       "  text-align: center;\n",
       "  font-size: 150%;\n",
       "}\n",
       "#T_c528e_row0_col0, #T_c528e_row0_col1, #T_c528e_row1_col0, #T_c528e_row1_col1, #T_c528e_row2_col0, #T_c528e_row2_col1, #T_c528e_row3_col0, #T_c528e_row3_col1, #T_c528e_row4_col0, #T_c528e_row4_col1, #T_c528e_row5_col0 {\n",
       "  text-align: left;\n",
       "  border: 1px #231f20 solid !important;\n",
       "  overwrite: False;\n",
       "  background-color: ;\n",
       "}\n",
       "#T_c528e_row5_col1 {\n",
       "  text-align: left;\n",
       "  border: 1px #231f20 solid !important;\n",
       "  overwrite: False;\n",
       "  background-color: #c3ffc4;\n",
       "}\n",
       "</style>\n",
       "<table id=\"T_c528e\">\n",
       "  <caption>Slice</caption>\n",
       "  <thead>\n",
       "  </thead>\n",
       "  <tbody>\n",
       "    <tr>\n",
       "      <td id=\"T_c528e_row0_col0\" class=\"data row0 col0\" >ID</td>\n",
       "      <td id=\"T_c528e_row0_col1\" class=\"data row0 col1\" >0bca4708-27be-4637-907c-8a049e80c081</td>\n",
       "    </tr>\n",
       "    <tr>\n",
       "      <td id=\"T_c528e_row1_col0\" class=\"data row1 col0\" >Name</td>\n",
       "      <td id=\"T_c528e_row1_col1\" class=\"data row1 col1\" >dpdk-basicfwd</td>\n",
       "    </tr>\n",
       "    <tr>\n",
       "      <td id=\"T_c528e_row2_col0\" class=\"data row2 col0\" >Lease Expiration (UTC)</td>\n",
       "      <td id=\"T_c528e_row2_col1\" class=\"data row2 col1\" >2025-06-27 22:41:32 +0000</td>\n",
       "    </tr>\n",
       "    <tr>\n",
       "      <td id=\"T_c528e_row3_col0\" class=\"data row3 col0\" >Lease Start (UTC)</td>\n",
       "      <td id=\"T_c528e_row3_col1\" class=\"data row3 col1\" >2025-06-26 22:41:32 +0000</td>\n",
       "    </tr>\n",
       "    <tr>\n",
       "      <td id=\"T_c528e_row4_col0\" class=\"data row4 col0\" >Project ID</td>\n",
       "      <td id=\"T_c528e_row4_col1\" class=\"data row4 col1\" >e34dd6bb-f899-499d-a7af-8dfa60559ecb</td>\n",
       "    </tr>\n",
       "    <tr>\n",
       "      <td id=\"T_c528e_row5_col0\" class=\"data row5 col0\" >State</td>\n",
       "      <td id=\"T_c528e_row5_col1\" class=\"data row5 col1\" >StableOK</td>\n",
       "    </tr>\n",
       "  </tbody>\n",
       "</table>\n"
      ],
      "text/plain": [
       "<pandas.io.formats.style.Styler at 0x7bfb7845c7d0>"
      ]
     },
     "metadata": {},
     "output_type": "display_data"
    },
    {
     "data": {
      "text/html": [
       "<style type=\"text/css\">\n",
       "#T_c32c4 caption {\n",
       "  text-align: center;\n",
       "  font-size: 150%;\n",
       "  caption-side: top;\n",
       "}\n",
       "#T_c32c4 th {\n",
       "  text-align: left;\n",
       "}\n",
       "#T_c32c4 tr:nth-child(even) {\n",
       "  background: #ffffff;\n",
       "  color: #231f20;\n",
       "}\n",
       "#T_c32c4 tr:nth-child(odd) {\n",
       "  background: #dbf3ff;\n",
       "  color: #231f20;\n",
       "}\n",
       "#T_c32c4 .level0 {\n",
       "  border: 1px black solid !important;\n",
       "  background: #ffffff;\n",
       "  color: #231f20;\n",
       "}\n",
       "#T_c32c4_row0_col0, #T_c32c4_row0_col1, #T_c32c4_row0_col2, #T_c32c4_row0_col3, #T_c32c4_row0_col4, #T_c32c4_row0_col5, #T_c32c4_row0_col6, #T_c32c4_row0_col7, #T_c32c4_row0_col8, #T_c32c4_row0_col9, #T_c32c4_row0_col10, #T_c32c4_row0_col13, #T_c32c4_row0_col14, #T_c32c4_row0_col15, #T_c32c4_row1_col0, #T_c32c4_row1_col1, #T_c32c4_row1_col2, #T_c32c4_row1_col3, #T_c32c4_row1_col4, #T_c32c4_row1_col5, #T_c32c4_row1_col6, #T_c32c4_row1_col7, #T_c32c4_row1_col8, #T_c32c4_row1_col9, #T_c32c4_row1_col10, #T_c32c4_row1_col13, #T_c32c4_row1_col14, #T_c32c4_row1_col15 {\n",
       "  text-align: left;\n",
       "  border: 1px #231f20 solid !important;\n",
       "  overwrite: False;\n",
       "}\n",
       "#T_c32c4_row0_col11, #T_c32c4_row1_col11 {\n",
       "  text-align: left;\n",
       "  border: 1px #231f20 solid !important;\n",
       "  overwrite: False;\n",
       "  background-color: #c3ffc4;\n",
       "}\n",
       "#T_c32c4_row0_col12, #T_c32c4_row1_col12 {\n",
       "  text-align: left;\n",
       "  border: 1px #231f20 solid !important;\n",
       "  overwrite: False;\n",
       "  background-color: ;\n",
       "}\n",
       "</style>\n",
       "<table id=\"T_c32c4\">\n",
       "  <caption>Nodes</caption>\n",
       "  <thead>\n",
       "    <tr>\n",
       "      <th id=\"T_c32c4_level0_col0\" class=\"col_heading level0 col0\" >ID</th>\n",
       "      <th id=\"T_c32c4_level0_col1\" class=\"col_heading level0 col1\" >Name</th>\n",
       "      <th id=\"T_c32c4_level0_col2\" class=\"col_heading level0 col2\" >Cores</th>\n",
       "      <th id=\"T_c32c4_level0_col3\" class=\"col_heading level0 col3\" >RAM</th>\n",
       "      <th id=\"T_c32c4_level0_col4\" class=\"col_heading level0 col4\" >Disk</th>\n",
       "      <th id=\"T_c32c4_level0_col5\" class=\"col_heading level0 col5\" >Image</th>\n",
       "      <th id=\"T_c32c4_level0_col6\" class=\"col_heading level0 col6\" >Image Type</th>\n",
       "      <th id=\"T_c32c4_level0_col7\" class=\"col_heading level0 col7\" >Host</th>\n",
       "      <th id=\"T_c32c4_level0_col8\" class=\"col_heading level0 col8\" >Site</th>\n",
       "      <th id=\"T_c32c4_level0_col9\" class=\"col_heading level0 col9\" >Username</th>\n",
       "      <th id=\"T_c32c4_level0_col10\" class=\"col_heading level0 col10\" >Management IP</th>\n",
       "      <th id=\"T_c32c4_level0_col11\" class=\"col_heading level0 col11\" >State</th>\n",
       "      <th id=\"T_c32c4_level0_col12\" class=\"col_heading level0 col12\" >Error</th>\n",
       "      <th id=\"T_c32c4_level0_col13\" class=\"col_heading level0 col13\" >SSH Command</th>\n",
       "      <th id=\"T_c32c4_level0_col14\" class=\"col_heading level0 col14\" >Public SSH Key File</th>\n",
       "      <th id=\"T_c32c4_level0_col15\" class=\"col_heading level0 col15\" >Private SSH Key File</th>\n",
       "    </tr>\n",
       "  </thead>\n",
       "  <tbody>\n",
       "    <tr>\n",
       "      <td id=\"T_c32c4_row0_col0\" class=\"data row0 col0\" >091dea7b-3d8a-4ea1-b54c-4e6d992efe3d</td>\n",
       "      <td id=\"T_c32c4_row0_col1\" class=\"data row0 col1\" >h1</td>\n",
       "      <td id=\"T_c32c4_row0_col2\" class=\"data row0 col2\" >8</td>\n",
       "      <td id=\"T_c32c4_row0_col3\" class=\"data row0 col3\" >16</td>\n",
       "      <td id=\"T_c32c4_row0_col4\" class=\"data row0 col4\" >100</td>\n",
       "      <td id=\"T_c32c4_row0_col5\" class=\"data row0 col5\" >default_ubuntu_24</td>\n",
       "      <td id=\"T_c32c4_row0_col6\" class=\"data row0 col6\" >qcow2</td>\n",
       "      <td id=\"T_c32c4_row0_col7\" class=\"data row0 col7\" >star-w3.fabric-testbed.net</td>\n",
       "      <td id=\"T_c32c4_row0_col8\" class=\"data row0 col8\" >STAR</td>\n",
       "      <td id=\"T_c32c4_row0_col9\" class=\"data row0 col9\" >ubuntu</td>\n",
       "      <td id=\"T_c32c4_row0_col10\" class=\"data row0 col10\" >2001:400:a100:3030:f816:3eff:fe5b:b1f8</td>\n",
       "      <td id=\"T_c32c4_row0_col11\" class=\"data row0 col11\" >Active</td>\n",
       "      <td id=\"T_c32c4_row0_col12\" class=\"data row0 col12\" ></td>\n",
       "      <td id=\"T_c32c4_row0_col13\" class=\"data row0 col13\" >ssh -i /home/fabric/work/fabric_config/slice_key -F /home/fabric/work/fabric_config/ssh_config ubuntu@2001:400:a100:3030:f816:3eff:fe5b:b1f8</td>\n",
       "      <td id=\"T_c32c4_row0_col14\" class=\"data row0 col14\" >/home/fabric/work/fabric_config/slice_key.pub</td>\n",
       "      <td id=\"T_c32c4_row0_col15\" class=\"data row0 col15\" >/home/fabric/work/fabric_config/slice_key</td>\n",
       "    </tr>\n",
       "    <tr>\n",
       "      <td id=\"T_c32c4_row1_col0\" class=\"data row1 col0\" >d234e36e-e55e-41ad-95fb-3103c6d9b53a</td>\n",
       "      <td id=\"T_c32c4_row1_col1\" class=\"data row1 col1\" >h2</td>\n",
       "      <td id=\"T_c32c4_row1_col2\" class=\"data row1 col2\" >8</td>\n",
       "      <td id=\"T_c32c4_row1_col3\" class=\"data row1 col3\" >16</td>\n",
       "      <td id=\"T_c32c4_row1_col4\" class=\"data row1 col4\" >100</td>\n",
       "      <td id=\"T_c32c4_row1_col5\" class=\"data row1 col5\" >default_ubuntu_24</td>\n",
       "      <td id=\"T_c32c4_row1_col6\" class=\"data row1 col6\" >qcow2</td>\n",
       "      <td id=\"T_c32c4_row1_col7\" class=\"data row1 col7\" >star-w3.fabric-testbed.net</td>\n",
       "      <td id=\"T_c32c4_row1_col8\" class=\"data row1 col8\" >STAR</td>\n",
       "      <td id=\"T_c32c4_row1_col9\" class=\"data row1 col9\" >ubuntu</td>\n",
       "      <td id=\"T_c32c4_row1_col10\" class=\"data row1 col10\" >2001:400:a100:3030:f816:3eff:fe98:30fb</td>\n",
       "      <td id=\"T_c32c4_row1_col11\" class=\"data row1 col11\" >Active</td>\n",
       "      <td id=\"T_c32c4_row1_col12\" class=\"data row1 col12\" ></td>\n",
       "      <td id=\"T_c32c4_row1_col13\" class=\"data row1 col13\" >ssh -i /home/fabric/work/fabric_config/slice_key -F /home/fabric/work/fabric_config/ssh_config ubuntu@2001:400:a100:3030:f816:3eff:fe98:30fb</td>\n",
       "      <td id=\"T_c32c4_row1_col14\" class=\"data row1 col14\" >/home/fabric/work/fabric_config/slice_key.pub</td>\n",
       "      <td id=\"T_c32c4_row1_col15\" class=\"data row1 col15\" >/home/fabric/work/fabric_config/slice_key</td>\n",
       "    </tr>\n",
       "  </tbody>\n",
       "</table>\n"
      ],
      "text/plain": [
       "<pandas.io.formats.style.Styler at 0x7bfb787da4d0>"
      ]
     },
     "metadata": {},
     "output_type": "display_data"
    },
    {
     "data": {
      "text/html": [
       "<style type=\"text/css\">\n",
       "#T_01b8f caption {\n",
       "  text-align: center;\n",
       "  font-size: 150%;\n",
       "  caption-side: top;\n",
       "}\n",
       "#T_01b8f th {\n",
       "  text-align: left;\n",
       "}\n",
       "#T_01b8f tr:nth-child(even) {\n",
       "  background: #ffffff;\n",
       "  color: #231f20;\n",
       "}\n",
       "#T_01b8f tr:nth-child(odd) {\n",
       "  background: #dbf3ff;\n",
       "  color: #231f20;\n",
       "}\n",
       "#T_01b8f .level0 {\n",
       "  border: 1px black solid !important;\n",
       "  background: #ffffff;\n",
       "  color: #231f20;\n",
       "}\n",
       "#T_01b8f_row0_col0, #T_01b8f_row0_col1, #T_01b8f_row0_col2, #T_01b8f_row0_col3, #T_01b8f_row0_col4, #T_01b8f_row0_col5, #T_01b8f_row0_col6 {\n",
       "  text-align: left;\n",
       "  border: 1px #231f20 solid !important;\n",
       "  overwrite: False;\n",
       "}\n",
       "#T_01b8f_row0_col7 {\n",
       "  text-align: left;\n",
       "  border: 1px #231f20 solid !important;\n",
       "  overwrite: False;\n",
       "  background-color: #c3ffc4;\n",
       "}\n",
       "#T_01b8f_row0_col8 {\n",
       "  text-align: left;\n",
       "  border: 1px #231f20 solid !important;\n",
       "  overwrite: False;\n",
       "  background-color: ;\n",
       "}\n",
       "</style>\n",
       "<table id=\"T_01b8f\">\n",
       "  <caption>Networks</caption>\n",
       "  <thead>\n",
       "    <tr>\n",
       "      <th id=\"T_01b8f_level0_col0\" class=\"col_heading level0 col0\" >ID</th>\n",
       "      <th id=\"T_01b8f_level0_col1\" class=\"col_heading level0 col1\" >Name</th>\n",
       "      <th id=\"T_01b8f_level0_col2\" class=\"col_heading level0 col2\" >Layer</th>\n",
       "      <th id=\"T_01b8f_level0_col3\" class=\"col_heading level0 col3\" >Type</th>\n",
       "      <th id=\"T_01b8f_level0_col4\" class=\"col_heading level0 col4\" >Site</th>\n",
       "      <th id=\"T_01b8f_level0_col5\" class=\"col_heading level0 col5\" >Subnet</th>\n",
       "      <th id=\"T_01b8f_level0_col6\" class=\"col_heading level0 col6\" >Gateway</th>\n",
       "      <th id=\"T_01b8f_level0_col7\" class=\"col_heading level0 col7\" >State</th>\n",
       "      <th id=\"T_01b8f_level0_col8\" class=\"col_heading level0 col8\" >Error</th>\n",
       "    </tr>\n",
       "  </thead>\n",
       "  <tbody>\n",
       "    <tr>\n",
       "      <td id=\"T_01b8f_row0_col0\" class=\"data row0 col0\" >60b178ea-90ad-4177-8357-8278dbca3694</td>\n",
       "      <td id=\"T_01b8f_row0_col1\" class=\"data row0 col1\" >dpdk_net</td>\n",
       "      <td id=\"T_01b8f_row0_col2\" class=\"data row0 col2\" >L2</td>\n",
       "      <td id=\"T_01b8f_row0_col3\" class=\"data row0 col3\" >L2Bridge</td>\n",
       "      <td id=\"T_01b8f_row0_col4\" class=\"data row0 col4\" >STAR</td>\n",
       "      <td id=\"T_01b8f_row0_col5\" class=\"data row0 col5\" >None</td>\n",
       "      <td id=\"T_01b8f_row0_col6\" class=\"data row0 col6\" >None</td>\n",
       "      <td id=\"T_01b8f_row0_col7\" class=\"data row0 col7\" >Active</td>\n",
       "      <td id=\"T_01b8f_row0_col8\" class=\"data row0 col8\" ></td>\n",
       "    </tr>\n",
       "  </tbody>\n",
       "</table>\n"
      ],
      "text/plain": [
       "<pandas.io.formats.style.Styler at 0x7bfb78485410>"
      ]
     },
     "metadata": {},
     "output_type": "display_data"
    },
    {
     "data": {
      "text/html": [
       "<style type=\"text/css\">\n",
       "#T_63c63 caption {\n",
       "  text-align: center;\n",
       "  font-size: 150%;\n",
       "  caption-side: top;\n",
       "}\n",
       "#T_63c63 th {\n",
       "  text-align: left;\n",
       "}\n",
       "#T_63c63 tr:nth-child(even) {\n",
       "  background: #ffffff;\n",
       "  color: #231f20;\n",
       "}\n",
       "#T_63c63 tr:nth-child(odd) {\n",
       "  background: #dbf3ff;\n",
       "  color: #231f20;\n",
       "}\n",
       "#T_63c63 .level0 {\n",
       "  border: 1px black solid !important;\n",
       "  background: #ffffff;\n",
       "  color: #231f20;\n",
       "}\n",
       "#T_63c63_row0_col0, #T_63c63_row0_col1, #T_63c63_row0_col2, #T_63c63_row0_col3, #T_63c63_row0_col4, #T_63c63_row0_col5, #T_63c63_row0_col6, #T_63c63_row0_col7, #T_63c63_row0_col8, #T_63c63_row0_col9, #T_63c63_row0_col10, #T_63c63_row0_col11, #T_63c63_row0_col12, #T_63c63_row1_col0, #T_63c63_row1_col1, #T_63c63_row1_col2, #T_63c63_row1_col3, #T_63c63_row1_col4, #T_63c63_row1_col5, #T_63c63_row1_col6, #T_63c63_row1_col7, #T_63c63_row1_col8, #T_63c63_row1_col9, #T_63c63_row1_col10, #T_63c63_row1_col11, #T_63c63_row1_col12, #T_63c63_row2_col0, #T_63c63_row2_col1, #T_63c63_row2_col2, #T_63c63_row2_col3, #T_63c63_row2_col4, #T_63c63_row2_col5, #T_63c63_row2_col6, #T_63c63_row2_col7, #T_63c63_row2_col8, #T_63c63_row2_col9, #T_63c63_row2_col10, #T_63c63_row2_col11, #T_63c63_row2_col12 {\n",
       "  text-align: left;\n",
       "  border: 1px #231f20 solid !important;\n",
       "  overwrite: False;\n",
       "}\n",
       "</style>\n",
       "<table id=\"T_63c63\">\n",
       "  <caption>Interfaces</caption>\n",
       "  <thead>\n",
       "    <tr>\n",
       "      <th id=\"T_63c63_level0_col0\" class=\"col_heading level0 col0\" >Name</th>\n",
       "      <th id=\"T_63c63_level0_col1\" class=\"col_heading level0 col1\" >Short Name</th>\n",
       "      <th id=\"T_63c63_level0_col2\" class=\"col_heading level0 col2\" >Node</th>\n",
       "      <th id=\"T_63c63_level0_col3\" class=\"col_heading level0 col3\" >Network</th>\n",
       "      <th id=\"T_63c63_level0_col4\" class=\"col_heading level0 col4\" >Bandwidth</th>\n",
       "      <th id=\"T_63c63_level0_col5\" class=\"col_heading level0 col5\" >Mode</th>\n",
       "      <th id=\"T_63c63_level0_col6\" class=\"col_heading level0 col6\" >VLAN</th>\n",
       "      <th id=\"T_63c63_level0_col7\" class=\"col_heading level0 col7\" >MAC</th>\n",
       "      <th id=\"T_63c63_level0_col8\" class=\"col_heading level0 col8\" >Physical Device</th>\n",
       "      <th id=\"T_63c63_level0_col9\" class=\"col_heading level0 col9\" >Device</th>\n",
       "      <th id=\"T_63c63_level0_col10\" class=\"col_heading level0 col10\" >IP Address</th>\n",
       "      <th id=\"T_63c63_level0_col11\" class=\"col_heading level0 col11\" >Numa Node</th>\n",
       "      <th id=\"T_63c63_level0_col12\" class=\"col_heading level0 col12\" >Switch Port</th>\n",
       "    </tr>\n",
       "  </thead>\n",
       "  <tbody>\n",
       "    <tr>\n",
       "      <td id=\"T_63c63_row0_col0\" class=\"data row0 col0\" >h1-h1_basic_1-p1</td>\n",
       "      <td id=\"T_63c63_row0_col1\" class=\"data row0 col1\" >p1</td>\n",
       "      <td id=\"T_63c63_row0_col2\" class=\"data row0 col2\" >h1</td>\n",
       "      <td id=\"T_63c63_row0_col3\" class=\"data row0 col3\" >dpdk_net</td>\n",
       "      <td id=\"T_63c63_row0_col4\" class=\"data row0 col4\" >100</td>\n",
       "      <td id=\"T_63c63_row0_col5\" class=\"data row0 col5\" >manual</td>\n",
       "      <td id=\"T_63c63_row0_col6\" class=\"data row0 col6\" ></td>\n",
       "      <td id=\"T_63c63_row0_col7\" class=\"data row0 col7\" >26:FA:F1:39:E4:40</td>\n",
       "      <td id=\"T_63c63_row0_col8\" class=\"data row0 col8\" >enp7s0</td>\n",
       "      <td id=\"T_63c63_row0_col9\" class=\"data row0 col9\" >enp7s0</td>\n",
       "      <td id=\"T_63c63_row0_col10\" class=\"data row0 col10\" >fe80::24fa:f1ff:fe39:e440</td>\n",
       "      <td id=\"T_63c63_row0_col11\" class=\"data row0 col11\" >4</td>\n",
       "      <td id=\"T_63c63_row0_col12\" class=\"data row0 col12\" >HundredGigE0/0/0/9</td>\n",
       "    </tr>\n",
       "    <tr>\n",
       "      <td id=\"T_63c63_row1_col0\" class=\"data row1 col0\" >h1-h1_basic_2-p1</td>\n",
       "      <td id=\"T_63c63_row1_col1\" class=\"data row1 col1\" >p1</td>\n",
       "      <td id=\"T_63c63_row1_col2\" class=\"data row1 col2\" >h1</td>\n",
       "      <td id=\"T_63c63_row1_col3\" class=\"data row1 col3\" >dpdk_net</td>\n",
       "      <td id=\"T_63c63_row1_col4\" class=\"data row1 col4\" >100</td>\n",
       "      <td id=\"T_63c63_row1_col5\" class=\"data row1 col5\" >manual</td>\n",
       "      <td id=\"T_63c63_row1_col6\" class=\"data row1 col6\" ></td>\n",
       "      <td id=\"T_63c63_row1_col7\" class=\"data row1 col7\" >2A:51:D5:A4:20:1A</td>\n",
       "      <td id=\"T_63c63_row1_col8\" class=\"data row1 col8\" >enp8s0</td>\n",
       "      <td id=\"T_63c63_row1_col9\" class=\"data row1 col9\" >enp8s0</td>\n",
       "      <td id=\"T_63c63_row1_col10\" class=\"data row1 col10\" >fe80::2851:d5ff:fea4:201a</td>\n",
       "      <td id=\"T_63c63_row1_col11\" class=\"data row1 col11\" >4</td>\n",
       "      <td id=\"T_63c63_row1_col12\" class=\"data row1 col12\" >HundredGigE0/0/0/9</td>\n",
       "    </tr>\n",
       "    <tr>\n",
       "      <td id=\"T_63c63_row2_col0\" class=\"data row2 col0\" >h2-h2_basic_1-p1</td>\n",
       "      <td id=\"T_63c63_row2_col1\" class=\"data row2 col1\" >p1</td>\n",
       "      <td id=\"T_63c63_row2_col2\" class=\"data row2 col2\" >h2</td>\n",
       "      <td id=\"T_63c63_row2_col3\" class=\"data row2 col3\" >dpdk_net</td>\n",
       "      <td id=\"T_63c63_row2_col4\" class=\"data row2 col4\" >100</td>\n",
       "      <td id=\"T_63c63_row2_col5\" class=\"data row2 col5\" >manual</td>\n",
       "      <td id=\"T_63c63_row2_col6\" class=\"data row2 col6\" ></td>\n",
       "      <td id=\"T_63c63_row2_col7\" class=\"data row2 col7\" >2A:E2:7E:C1:38:4C</td>\n",
       "      <td id=\"T_63c63_row2_col8\" class=\"data row2 col8\" >enp7s0</td>\n",
       "      <td id=\"T_63c63_row2_col9\" class=\"data row2 col9\" >enp7s0</td>\n",
       "      <td id=\"T_63c63_row2_col10\" class=\"data row2 col10\" >fe80::28e2:7eff:fec1:384c</td>\n",
       "      <td id=\"T_63c63_row2_col11\" class=\"data row2 col11\" >4</td>\n",
       "      <td id=\"T_63c63_row2_col12\" class=\"data row2 col12\" >HundredGigE0/0/0/9</td>\n",
       "    </tr>\n",
       "  </tbody>\n",
       "</table>\n"
      ],
      "text/plain": [
       "<pandas.io.formats.style.Styler at 0x7bfb784524d0>"
      ]
     },
     "metadata": {},
     "output_type": "display_data"
    },
    {
     "name": "stdout",
     "output_type": "stream",
     "text": [
      "\n",
      "Time to print interfaces 209 seconds\n"
     ]
    },
    {
     "data": {
      "text/plain": [
       "'0bca4708-27be-4637-907c-8a049e80c081'"
      ]
     },
     "execution_count": 61,
     "metadata": {},
     "output_type": "execute_result"
    }
   ],
   "source": [
    "from fabrictestbed_extensions.fablib.fablib import FablibManager\n",
    "fablib = FablibManager()\n",
    "\n",
    "SLICE      = \"dpdk-basicfwd\"\n",
    "SITE       = \"STAR\"\n",
    "IMAGE      = \"default_ubuntu_24\"\n",
    "CORES      = 8\n",
    "RAM_GB     = 16\n",
    "DISK_GB    = 100\n",
    "\n",
    "slice = fablib.new_slice(name=SLICE)\n",
    "\n",
    "nodes, ifaces = [], []\n",
    "\n",
    "node1 = slice.add_node(name=\"h1\", site=SITE, image=IMAGE, cores=CORES, ram=RAM_GB, disk=DISK_GB)\n",
    "\n",
    "comp1 = node1.add_component(model=\"NIC_Basic\", name=\"h1_basic_1\")\n",
    "iface1 = comp1.get_interfaces()[0]\n",
    "iface1.set_mode(\"manual\")\n",
    "ifaces.append(iface1)\n",
    "\n",
    "comp2 = node1.add_component(model=\"NIC_Basic\", name=\"h1_basic_2\")\n",
    "iface2 = comp2.get_interfaces()[0]\n",
    "iface2.set_mode(\"manual\")\n",
    "ifaces.append(iface2)\n",
    "\n",
    "nodes.append(node1)\n",
    "\n",
    "node2 = slice.add_node(name=\"h2\", site=SITE, image=IMAGE, cores=CORES, ram=RAM_GB, disk=DISK_GB)\n",
    "\n",
    "comp1 = node2.add_component(model=\"NIC_Basic\", name=\"h2_basic_1\")\n",
    "iface1 = comp1.get_interfaces()[0]\n",
    "iface1.set_mode(\"manual\")\n",
    "ifaces.append(iface1)\n",
    "\n",
    "nodes.append(node2)\n",
    "\n",
    "slice.add_l2network(name=\"dpdk_net\", interfaces=ifaces)\n",
    "\n",
    "slice.submit(wait=True)"
   ]
  },
  {
   "cell_type": "code",
   "execution_count": 1,
   "id": "99fb8c99-8b5e-499b-aa49-5e5e76b78415",
   "metadata": {},
   "outputs": [],
   "source": [
    "from fabrictestbed_extensions.fablib.attestable_switch import Attestable_Switch\n",
    "from fabrictestbed_extensions.fablib.fablib import FablibManager\n",
    "\n",
    "slice_name = \"dpdk-basicfwd\"\n",
    "\n",
    "fablib = FablibManager()\n",
    "slice = fablib.get_slice(name=slice_name)\n",
    "\n",
    "nodes = []\n",
    "nodes.append(slice.get_node(name=\"h1\"))\n",
    "nodes.append(slice.get_node(name=\"h2\"))"
   ]
  },
  {
   "cell_type": "code",
   "execution_count": 60,
   "id": "9ce00873-4c78-46b7-a07e-72680ded9c6e",
   "metadata": {},
   "outputs": [],
   "source": [
    "# slice.delete()"
   ]
  },
  {
   "cell_type": "code",
   "execution_count": null,
   "id": "2d8c7855-c4a6-42a4-908b-62c82cadee21",
   "metadata": {},
   "outputs": [],
   "source": [
    "nodes[0].execute(\"sudo apt-get update && sudo apt-get install -y build-essential git meson ninja-build pkg-config libnuma-dev libibverbs-dev librdmacm-dev rdma-core linux-modules-extra-$(uname -r) python3-pyelftools\")"
   ]
  },
  {
   "cell_type": "code",
   "execution_count": 3,
   "id": "0a79abec-8a53-4324-90d0-ade37504a31f",
   "metadata": {},
   "outputs": [
    {
     "name": "stdout",
     "output_type": "stream",
     "text": [
      "\u001b[31mCloning into 'dpdk'...\n",
      "\u001b[0m"
     ]
    },
    {
     "data": {
      "text/plain": [
       "('', \"Cloning into 'dpdk'...\\n\")"
      ]
     },
     "execution_count": 3,
     "metadata": {},
     "output_type": "execute_result"
    }
   ],
   "source": [
    "nodes[0].execute(\"git clone https://github.com/DPDK/dpdk.git\")"
   ]
  },
  {
   "cell_type": "code",
   "execution_count": null,
   "id": "7ebd10a1-be6a-4e5d-8d45-f95a5d719381",
   "metadata": {},
   "outputs": [],
   "source": [
    "nodes[0].execute(\"cd dpdk && meson setup build && ninja -C build && cd ..\")"
   ]
  },
  {
   "cell_type": "code",
   "execution_count": 5,
   "id": "64594b59-db11-43e0-957f-ee25e540a3dd",
   "metadata": {},
   "outputs": [
    {
     "name": "stdout",
     "output_type": "stream",
     "text": [
      "512\n",
      "nodev /mnt/huge hugetlbfs defaults 0 0\n"
     ]
    },
    {
     "data": {
      "text/plain": [
       "('512\\nnodev /mnt/huge hugetlbfs defaults 0 0\\n', '')"
      ]
     },
     "execution_count": 5,
     "metadata": {},
     "output_type": "execute_result"
    }
   ],
   "source": [
    "nodes[0].execute(\"echo 512 | sudo tee /proc/sys/vm/nr_hugepages && sudo mkdir -p /mnt/huge && echo \\\"nodev /mnt/huge hugetlbfs defaults 0 0\\\" | sudo tee -a /etc/fstab && sudo mount -t hugetlbfs nodev /mnt/huge\")"
   ]
  },
  {
   "cell_type": "code",
   "execution_count": 6,
   "id": "52f3acb6-66d5-47ce-bff6-bdd94a9a9340",
   "metadata": {},
   "outputs": [
    {
     "name": "stdout",
     "output_type": "stream",
     "text": [
      "vfio\n",
      "vfio-pci\n"
     ]
    },
    {
     "data": {
      "text/plain": [
       "('vfio\\nvfio-pci\\n', '')"
      ]
     },
     "execution_count": 6,
     "metadata": {},
     "output_type": "execute_result"
    }
   ],
   "source": [
    "nodes[0].execute(\"sudo modprobe vfio-pci && echo \\\"vfio\\\" | sudo tee  /etc/modules-load.d/vfio.conf && echo \\\"vfio-pci\\\"  | sudo tee -a /etc/modules-load.d/vfio.conf\")"
   ]
  },
  {
   "cell_type": "code",
   "execution_count": 7,
   "id": "8c076545-9025-4764-aeba-52a5b2a30ae7",
   "metadata": {},
   "outputs": [
    {
     "name": "stdout",
     "output_type": "stream",
     "text": [
      "\n",
      "Network devices using kernel driver\n",
      "===================================\n",
      "0000:03:00.0 'Virtio 1.0 network device 1041' if=enp3s0 drv=virtio-pci unused=vfio-pci *Active*\n",
      "0000:07:00.0 'MT28908 Family [ConnectX-6 Virtual Function] 101c' if=enp7s0 drv=mlx5_core unused=vfio-pci \n",
      "0000:08:00.0 'MT28908 Family [ConnectX-6 Virtual Function] 101c' if=enp8s0 drv=mlx5_core unused=vfio-pci \n",
      "\n",
      "No 'Baseband' devices detected\n",
      "==============================\n",
      "\n",
      "No 'Crypto' devices detected\n",
      "============================\n",
      "\n",
      "No 'DMA' devices detected\n",
      "=========================\n",
      "\n",
      "No 'Eventdev' devices detected\n",
      "==============================\n",
      "\n",
      "No 'Mempool' devices detected\n",
      "=============================\n",
      "\n",
      "No 'Compress' devices detected\n",
      "==============================\n",
      "\n",
      "Misc (rawdev) devices using kernel driver\n",
      "=========================================\n",
      "0000:04:00.0 'Virtio 1.0 block device 1042' drv=virtio-pci unused=vfio-pci \n",
      "\n",
      "No 'Regex' devices detected\n",
      "===========================\n",
      "\n",
      "No 'ML' devices detected\n",
      "========================\n"
     ]
    },
    {
     "data": {
      "text/plain": [
       "(\"\\nNetwork devices using kernel driver\\n===================================\\n0000:03:00.0 'Virtio 1.0 network device 1041' if=enp3s0 drv=virtio-pci unused=vfio-pci *Active*\\n0000:07:00.0 'MT28908 Family [ConnectX-6 Virtual Function] 101c' if=enp7s0 drv=mlx5_core unused=vfio-pci \\n0000:08:00.0 'MT28908 Family [ConnectX-6 Virtual Function] 101c' if=enp8s0 drv=mlx5_core unused=vfio-pci \\n\\nNo 'Baseband' devices detected\\n==============================\\n\\nNo 'Crypto' devices detected\\n============================\\n\\nNo 'DMA' devices detected\\n=========================\\n\\nNo 'Eventdev' devices detected\\n==============================\\n\\nNo 'Mempool' devices detected\\n=============================\\n\\nNo 'Compress' devices detected\\n==============================\\n\\nMisc (rawdev) devices using kernel driver\\n=========================================\\n0000:04:00.0 'Virtio 1.0 block device 1042' drv=virtio-pci unused=vfio-pci \\n\\nNo 'Regex' devices detected\\n===========================\\n\\nNo 'ML' devices detected\\n========================\\n\",\n",
       " '')"
      ]
     },
     "execution_count": 7,
     "metadata": {},
     "output_type": "execute_result"
    }
   ],
   "source": [
    "nodes[0].execute(\"sudo ./dpdk/usertools/dpdk-devbind.py -s\")"
   ]
  },
  {
   "cell_type": "code",
   "execution_count": 8,
   "id": "0fa0e833-122b-45cd-972a-0e29d97feb46",
   "metadata": {},
   "outputs": [
    {
     "name": "stdout",
     "output_type": "stream",
     "text": [
      "Warning: enabling unsafe no IOMMU mode for VFIO drivers\n"
     ]
    },
    {
     "data": {
      "text/plain": [
       "('Warning: enabling unsafe no IOMMU mode for VFIO drivers\\n', '')"
      ]
     },
     "execution_count": 8,
     "metadata": {},
     "output_type": "execute_result"
    }
   ],
   "source": [
    "nodes[0].execute(\"sudo ./dpdk/usertools/dpdk-devbind.py -u 0000:07:00.0 && sudo ./dpdk/usertools/dpdk-devbind.py --noiommu-mode -b vfio-pci 0000:07:00.0 && sudo ./dpdk/usertools/dpdk-devbind.py -u 0000:08:00.0 && sudo ./dpdk/usertools/dpdk-devbind.py --noiommu-mode -b vfio-pci 0000:08:00.0\")"
   ]
  },
  {
   "cell_type": "code",
   "execution_count": null,
   "id": "a87b3648-690f-4d9d-b0bd-08c740043957",
   "metadata": {},
   "outputs": [],
   "source": [
    "nodes[0].execute(\"cd dpdk/build && meson configure -Dexamples=skeleton && ninja\")"
   ]
  },
  {
   "cell_type": "code",
   "execution_count": 10,
   "id": "01bf2cd2-4d37-4c2c-8137-3106a596dd74",
   "metadata": {},
   "outputs": [
    {
     "name": "stdout",
     "output_type": "stream",
     "text": [
      "\u001b[31m\n",
      "WARNING: apt does not have a stable CLI interface. Use with caution in scripts.\n",
      "\n",
      "\u001b[0mHit:1 http://nova.clouds.archive.ubuntu.com/ubuntu noble InRelease\n",
      "Hit:2 http://nova.clouds.archive.ubuntu.com/ubuntu noble-updates InRelease\n",
      "Hit:3 http://nova.clouds.archive.ubuntu.com/ubuntu noble-backports InRelease\n",
      "Hit:4 http://security.ubuntu.com/ubuntu noble-security InRelease\n",
      "Reading package lists...\n",
      "Building dependency tree...\n",
      "Reading state information...\n",
      "217 packages can be upgraded. Run 'apt list --upgradable' to see them.\n",
      "\u001b[31m\n",
      "WARNING: apt does not have a stable CLI interface. Use with caution in scripts.\n",
      "\n",
      "\u001b[0mReading package lists...\n",
      "Building dependency tree...\n",
      "Reading state information...\n",
      "rdma-core is already the newest version (50.0-2ubuntu0.2).\n",
      "ibverbs-providers is already the newest version (50.0-2ubuntu0.2).\n",
      "ibverbs-providers set to manually installed.\n",
      "0 upgraded, 0 newly installed, 0 to remove and 217 not upgraded.\n"
     ]
    },
    {
     "data": {
      "text/plain": [
       "(\"Hit:1 http://nova.clouds.archive.ubuntu.com/ubuntu noble InRelease\\nHit:2 http://nova.clouds.archive.ubuntu.com/ubuntu noble-updates InRelease\\nHit:3 http://nova.clouds.archive.ubuntu.com/ubuntu noble-backports InRelease\\nHit:4 http://security.ubuntu.com/ubuntu noble-security InRelease\\nReading package lists...\\nBuilding dependency tree...\\nReading state information...\\n217 packages can be upgraded. Run 'apt list --upgradable' to see them.\\nReading package lists...\\nBuilding dependency tree...\\nReading state information...\\nrdma-core is already the newest version (50.0-2ubuntu0.2).\\nibverbs-providers is already the newest version (50.0-2ubuntu0.2).\\nibverbs-providers set to manually installed.\\n0 upgraded, 0 newly installed, 0 to remove and 217 not upgraded.\\n\",\n",
       " '\\nWARNING: apt does not have a stable CLI interface. Use with caution in scripts.\\n\\n\\nWARNING: apt does not have a stable CLI interface. Use with caution in scripts.\\n\\n')"
      ]
     },
     "execution_count": 10,
     "metadata": {},
     "output_type": "execute_result"
    }
   ],
   "source": [
    "nodes[0].execute(\"sudo apt update -y && sudo apt install -y rdma-core ibverbs-providers\")"
   ]
  },
  {
   "cell_type": "code",
   "execution_count": 11,
   "id": "428dbcd2-4bdd-437e-93c8-042196615315",
   "metadata": {},
   "outputs": [
    {
     "name": "stdout",
     "output_type": "stream",
     "text": [
      "\u001b[31mEAL: Detected CPU lcores: 8\n",
      "EAL: Detected NUMA nodes: 1\n",
      "\u001b[0m\u001b[31mEAL: Detected static linkage of DPDK\n",
      "EAL: Multi-process socket /var/run/dpdk/rte/mp_socket\n",
      "EAL: Selected IOVA mode 'PA'\n",
      "EAL: VFIO support initialized\n",
      "\u001b[0m\u001b[31mVIRTIO_INIT: eth_virtio_pci_init(): Failed to init PCI device\n",
      "PCI_BUS: Requested device 0000:03:00.0 cannot be used\n",
      "mlx5_common: Verbs device not found: 0000:07:00.0\n",
      "mlx5_common: Failed to initialize device context.\n",
      "PCI_BUS: Requested device 0000:07:00.0 cannot be used\n",
      "mlx5_common: Verbs device not found: 0000:08:00.0\n",
      "mlx5_common: Failed to initialize device context.\n",
      "PCI_BUS: Requested device 0000:08:00.0 cannot be used\n",
      "EAL: Error - exiting with code: 1\n",
      "Error: number of ports must be even\n",
      "\u001b[0m"
     ]
    },
    {
     "data": {
      "text/plain": [
       "('',\n",
       " \"EAL: Detected CPU lcores: 8\\nEAL: Detected NUMA nodes: 1\\nEAL: Detected static linkage of DPDK\\nEAL: Multi-process socket /var/run/dpdk/rte/mp_socket\\nEAL: Selected IOVA mode 'PA'\\nEAL: VFIO support initialized\\nVIRTIO_INIT: eth_virtio_pci_init(): Failed to init PCI device\\nPCI_BUS: Requested device 0000:03:00.0 cannot be used\\nmlx5_common: Verbs device not found: 0000:07:00.0\\nmlx5_common: Failed to initialize device context.\\nPCI_BUS: Requested device 0000:07:00.0 cannot be used\\nmlx5_common: Verbs device not found: 0000:08:00.0\\nmlx5_common: Failed to initialize device context.\\nPCI_BUS: Requested device 0000:08:00.0 cannot be used\\nEAL: Error - exiting with code: 1\\nError: number of ports must be even\\n\")"
      ]
     },
     "execution_count": 11,
     "metadata": {},
     "output_type": "execute_result"
    }
   ],
   "source": [
    "nodes[0].execute(\"cd dpdk && sudo ./build/examples/dpdk-skeleton -l 0-3 -n 4\")"
   ]
  },
  {
   "cell_type": "markdown",
   "id": "2c3dce74-4819-461e-8fb4-6fa7b674ea3d",
   "metadata": {},
   "source": [
    "# mlx5"
   ]
  },
  {
   "cell_type": "code",
   "execution_count": 22,
   "id": "3c1b79f9-902f-4109-8c9c-be91ca89b2b7",
   "metadata": {},
   "outputs": [
    {
     "name": "stdout",
     "output_type": "stream",
     "text": [
      "\n",
      "Retry: 11, Time: 281 sec\n"
     ]
    },
    {
     "data": {
      "text/html": [
       "<style type=\"text/css\">\n",
       "#T_ef5ac tr:nth-child(even) {\n",
       "  background: #dbf3ff;\n",
       "  color: #231f20;\n",
       "}\n",
       "#T_ef5ac tr:nth-child(odd) {\n",
       "  background: #ffffff;\n",
       "  color: #231f20;\n",
       "}\n",
       "#T_ef5ac caption {\n",
       "  text-align: center;\n",
       "  font-size: 150%;\n",
       "}\n",
       "#T_ef5ac_row0_col0, #T_ef5ac_row0_col1, #T_ef5ac_row1_col0, #T_ef5ac_row1_col1, #T_ef5ac_row2_col0, #T_ef5ac_row2_col1, #T_ef5ac_row3_col0, #T_ef5ac_row3_col1, #T_ef5ac_row4_col0, #T_ef5ac_row4_col1, #T_ef5ac_row5_col0 {\n",
       "  text-align: left;\n",
       "  border: 1px #231f20 solid !important;\n",
       "  overwrite: False;\n",
       "  background-color: ;\n",
       "}\n",
       "#T_ef5ac_row5_col1 {\n",
       "  text-align: left;\n",
       "  border: 1px #231f20 solid !important;\n",
       "  overwrite: False;\n",
       "  background-color: #c3ffc4;\n",
       "}\n",
       "</style>\n",
       "<table id=\"T_ef5ac\">\n",
       "  <caption>Slice</caption>\n",
       "  <thead>\n",
       "  </thead>\n",
       "  <tbody>\n",
       "    <tr>\n",
       "      <td id=\"T_ef5ac_row0_col0\" class=\"data row0 col0\" >ID</td>\n",
       "      <td id=\"T_ef5ac_row0_col1\" class=\"data row0 col1\" >4acd25b5-5de5-4027-b518-21c1ea0c1c3a</td>\n",
       "    </tr>\n",
       "    <tr>\n",
       "      <td id=\"T_ef5ac_row1_col0\" class=\"data row1 col0\" >Name</td>\n",
       "      <td id=\"T_ef5ac_row1_col1\" class=\"data row1 col1\" >dpdk-basicfwd</td>\n",
       "    </tr>\n",
       "    <tr>\n",
       "      <td id=\"T_ef5ac_row2_col0\" class=\"data row2 col0\" >Lease Expiration (UTC)</td>\n",
       "      <td id=\"T_ef5ac_row2_col1\" class=\"data row2 col1\" >2025-06-28 18:50:46 +0000</td>\n",
       "    </tr>\n",
       "    <tr>\n",
       "      <td id=\"T_ef5ac_row3_col0\" class=\"data row3 col0\" >Lease Start (UTC)</td>\n",
       "      <td id=\"T_ef5ac_row3_col1\" class=\"data row3 col1\" >2025-06-27 18:50:46 +0000</td>\n",
       "    </tr>\n",
       "    <tr>\n",
       "      <td id=\"T_ef5ac_row4_col0\" class=\"data row4 col0\" >Project ID</td>\n",
       "      <td id=\"T_ef5ac_row4_col1\" class=\"data row4 col1\" >e34dd6bb-f899-499d-a7af-8dfa60559ecb</td>\n",
       "    </tr>\n",
       "    <tr>\n",
       "      <td id=\"T_ef5ac_row5_col0\" class=\"data row5 col0\" >State</td>\n",
       "      <td id=\"T_ef5ac_row5_col1\" class=\"data row5 col1\" >StableOK</td>\n",
       "    </tr>\n",
       "  </tbody>\n",
       "</table>\n"
      ],
      "text/plain": [
       "<pandas.io.formats.style.Styler at 0x78f2b46d2f50>"
      ]
     },
     "metadata": {},
     "output_type": "display_data"
    },
    {
     "data": {
      "text/html": [
       "<style type=\"text/css\">\n",
       "#T_3ff84 caption {\n",
       "  text-align: center;\n",
       "  font-size: 150%;\n",
       "  caption-side: top;\n",
       "}\n",
       "#T_3ff84 th {\n",
       "  text-align: left;\n",
       "}\n",
       "#T_3ff84 tr:nth-child(even) {\n",
       "  background: #ffffff;\n",
       "  color: #231f20;\n",
       "}\n",
       "#T_3ff84 tr:nth-child(odd) {\n",
       "  background: #dbf3ff;\n",
       "  color: #231f20;\n",
       "}\n",
       "#T_3ff84 .level0 {\n",
       "  border: 1px black solid !important;\n",
       "  background: #ffffff;\n",
       "  color: #231f20;\n",
       "}\n",
       "#T_3ff84_row0_col0, #T_3ff84_row0_col1, #T_3ff84_row0_col2, #T_3ff84_row0_col3, #T_3ff84_row0_col4, #T_3ff84_row0_col5, #T_3ff84_row0_col6, #T_3ff84_row0_col7, #T_3ff84_row0_col8, #T_3ff84_row0_col9, #T_3ff84_row0_col10, #T_3ff84_row0_col13, #T_3ff84_row0_col14, #T_3ff84_row0_col15, #T_3ff84_row1_col0, #T_3ff84_row1_col1, #T_3ff84_row1_col2, #T_3ff84_row1_col3, #T_3ff84_row1_col4, #T_3ff84_row1_col5, #T_3ff84_row1_col6, #T_3ff84_row1_col7, #T_3ff84_row1_col8, #T_3ff84_row1_col9, #T_3ff84_row1_col10, #T_3ff84_row1_col13, #T_3ff84_row1_col14, #T_3ff84_row1_col15 {\n",
       "  text-align: left;\n",
       "  border: 1px #231f20 solid !important;\n",
       "  overwrite: False;\n",
       "}\n",
       "#T_3ff84_row0_col11, #T_3ff84_row1_col11 {\n",
       "  text-align: left;\n",
       "  border: 1px #231f20 solid !important;\n",
       "  overwrite: False;\n",
       "  background-color: #c3ffc4;\n",
       "}\n",
       "#T_3ff84_row0_col12, #T_3ff84_row1_col12 {\n",
       "  text-align: left;\n",
       "  border: 1px #231f20 solid !important;\n",
       "  overwrite: False;\n",
       "  background-color: ;\n",
       "}\n",
       "</style>\n",
       "<table id=\"T_3ff84\">\n",
       "  <caption>Nodes</caption>\n",
       "  <thead>\n",
       "    <tr>\n",
       "      <th id=\"T_3ff84_level0_col0\" class=\"col_heading level0 col0\" >ID</th>\n",
       "      <th id=\"T_3ff84_level0_col1\" class=\"col_heading level0 col1\" >Name</th>\n",
       "      <th id=\"T_3ff84_level0_col2\" class=\"col_heading level0 col2\" >Cores</th>\n",
       "      <th id=\"T_3ff84_level0_col3\" class=\"col_heading level0 col3\" >RAM</th>\n",
       "      <th id=\"T_3ff84_level0_col4\" class=\"col_heading level0 col4\" >Disk</th>\n",
       "      <th id=\"T_3ff84_level0_col5\" class=\"col_heading level0 col5\" >Image</th>\n",
       "      <th id=\"T_3ff84_level0_col6\" class=\"col_heading level0 col6\" >Image Type</th>\n",
       "      <th id=\"T_3ff84_level0_col7\" class=\"col_heading level0 col7\" >Host</th>\n",
       "      <th id=\"T_3ff84_level0_col8\" class=\"col_heading level0 col8\" >Site</th>\n",
       "      <th id=\"T_3ff84_level0_col9\" class=\"col_heading level0 col9\" >Username</th>\n",
       "      <th id=\"T_3ff84_level0_col10\" class=\"col_heading level0 col10\" >Management IP</th>\n",
       "      <th id=\"T_3ff84_level0_col11\" class=\"col_heading level0 col11\" >State</th>\n",
       "      <th id=\"T_3ff84_level0_col12\" class=\"col_heading level0 col12\" >Error</th>\n",
       "      <th id=\"T_3ff84_level0_col13\" class=\"col_heading level0 col13\" >SSH Command</th>\n",
       "      <th id=\"T_3ff84_level0_col14\" class=\"col_heading level0 col14\" >Public SSH Key File</th>\n",
       "      <th id=\"T_3ff84_level0_col15\" class=\"col_heading level0 col15\" >Private SSH Key File</th>\n",
       "    </tr>\n",
       "  </thead>\n",
       "  <tbody>\n",
       "    <tr>\n",
       "      <td id=\"T_3ff84_row0_col0\" class=\"data row0 col0\" >3828e9dc-5d02-4d67-94bd-d3c63192785f</td>\n",
       "      <td id=\"T_3ff84_row0_col1\" class=\"data row0 col1\" >h1</td>\n",
       "      <td id=\"T_3ff84_row0_col2\" class=\"data row0 col2\" >8</td>\n",
       "      <td id=\"T_3ff84_row0_col3\" class=\"data row0 col3\" >16</td>\n",
       "      <td id=\"T_3ff84_row0_col4\" class=\"data row0 col4\" >100</td>\n",
       "      <td id=\"T_3ff84_row0_col5\" class=\"data row0 col5\" >default_ubuntu_24</td>\n",
       "      <td id=\"T_3ff84_row0_col6\" class=\"data row0 col6\" >qcow2</td>\n",
       "      <td id=\"T_3ff84_row0_col7\" class=\"data row0 col7\" >star-w3.fabric-testbed.net</td>\n",
       "      <td id=\"T_3ff84_row0_col8\" class=\"data row0 col8\" >STAR</td>\n",
       "      <td id=\"T_3ff84_row0_col9\" class=\"data row0 col9\" >ubuntu</td>\n",
       "      <td id=\"T_3ff84_row0_col10\" class=\"data row0 col10\" >2001:400:a100:3030:f816:3eff:fe55:6b09</td>\n",
       "      <td id=\"T_3ff84_row0_col11\" class=\"data row0 col11\" >Active</td>\n",
       "      <td id=\"T_3ff84_row0_col12\" class=\"data row0 col12\" ></td>\n",
       "      <td id=\"T_3ff84_row0_col13\" class=\"data row0 col13\" >ssh -i /home/fabric/work/fabric_config/slice_key -F /home/fabric/work/fabric_config/ssh_config ubuntu@2001:400:a100:3030:f816:3eff:fe55:6b09</td>\n",
       "      <td id=\"T_3ff84_row0_col14\" class=\"data row0 col14\" >/home/fabric/work/fabric_config/slice_key.pub</td>\n",
       "      <td id=\"T_3ff84_row0_col15\" class=\"data row0 col15\" >/home/fabric/work/fabric_config/slice_key</td>\n",
       "    </tr>\n",
       "    <tr>\n",
       "      <td id=\"T_3ff84_row1_col0\" class=\"data row1 col0\" >a6671413-a174-4af7-b7e0-c21a8654ddcc</td>\n",
       "      <td id=\"T_3ff84_row1_col1\" class=\"data row1 col1\" >h2</td>\n",
       "      <td id=\"T_3ff84_row1_col2\" class=\"data row1 col2\" >8</td>\n",
       "      <td id=\"T_3ff84_row1_col3\" class=\"data row1 col3\" >16</td>\n",
       "      <td id=\"T_3ff84_row1_col4\" class=\"data row1 col4\" >100</td>\n",
       "      <td id=\"T_3ff84_row1_col5\" class=\"data row1 col5\" >default_ubuntu_24</td>\n",
       "      <td id=\"T_3ff84_row1_col6\" class=\"data row1 col6\" >qcow2</td>\n",
       "      <td id=\"T_3ff84_row1_col7\" class=\"data row1 col7\" >star-w3.fabric-testbed.net</td>\n",
       "      <td id=\"T_3ff84_row1_col8\" class=\"data row1 col8\" >STAR</td>\n",
       "      <td id=\"T_3ff84_row1_col9\" class=\"data row1 col9\" >ubuntu</td>\n",
       "      <td id=\"T_3ff84_row1_col10\" class=\"data row1 col10\" >2001:400:a100:3030:f816:3eff:fead:78f2</td>\n",
       "      <td id=\"T_3ff84_row1_col11\" class=\"data row1 col11\" >Active</td>\n",
       "      <td id=\"T_3ff84_row1_col12\" class=\"data row1 col12\" ></td>\n",
       "      <td id=\"T_3ff84_row1_col13\" class=\"data row1 col13\" >ssh -i /home/fabric/work/fabric_config/slice_key -F /home/fabric/work/fabric_config/ssh_config ubuntu@2001:400:a100:3030:f816:3eff:fead:78f2</td>\n",
       "      <td id=\"T_3ff84_row1_col14\" class=\"data row1 col14\" >/home/fabric/work/fabric_config/slice_key.pub</td>\n",
       "      <td id=\"T_3ff84_row1_col15\" class=\"data row1 col15\" >/home/fabric/work/fabric_config/slice_key</td>\n",
       "    </tr>\n",
       "  </tbody>\n",
       "</table>\n"
      ],
      "text/plain": [
       "<pandas.io.formats.style.Styler at 0x78f2b93397d0>"
      ]
     },
     "metadata": {},
     "output_type": "display_data"
    },
    {
     "data": {
      "text/html": [
       "<style type=\"text/css\">\n",
       "#T_23f52 caption {\n",
       "  text-align: center;\n",
       "  font-size: 150%;\n",
       "  caption-side: top;\n",
       "}\n",
       "#T_23f52 th {\n",
       "  text-align: left;\n",
       "}\n",
       "#T_23f52 tr:nth-child(even) {\n",
       "  background: #ffffff;\n",
       "  color: #231f20;\n",
       "}\n",
       "#T_23f52 tr:nth-child(odd) {\n",
       "  background: #dbf3ff;\n",
       "  color: #231f20;\n",
       "}\n",
       "#T_23f52 .level0 {\n",
       "  border: 1px black solid !important;\n",
       "  background: #ffffff;\n",
       "  color: #231f20;\n",
       "}\n",
       "#T_23f52_row0_col0, #T_23f52_row0_col1, #T_23f52_row0_col2, #T_23f52_row0_col3, #T_23f52_row0_col4, #T_23f52_row0_col5, #T_23f52_row0_col6 {\n",
       "  text-align: left;\n",
       "  border: 1px #231f20 solid !important;\n",
       "  overwrite: False;\n",
       "}\n",
       "#T_23f52_row0_col7 {\n",
       "  text-align: left;\n",
       "  border: 1px #231f20 solid !important;\n",
       "  overwrite: False;\n",
       "  background-color: #c3ffc4;\n",
       "}\n",
       "#T_23f52_row0_col8 {\n",
       "  text-align: left;\n",
       "  border: 1px #231f20 solid !important;\n",
       "  overwrite: False;\n",
       "  background-color: ;\n",
       "}\n",
       "</style>\n",
       "<table id=\"T_23f52\">\n",
       "  <caption>Networks</caption>\n",
       "  <thead>\n",
       "    <tr>\n",
       "      <th id=\"T_23f52_level0_col0\" class=\"col_heading level0 col0\" >ID</th>\n",
       "      <th id=\"T_23f52_level0_col1\" class=\"col_heading level0 col1\" >Name</th>\n",
       "      <th id=\"T_23f52_level0_col2\" class=\"col_heading level0 col2\" >Layer</th>\n",
       "      <th id=\"T_23f52_level0_col3\" class=\"col_heading level0 col3\" >Type</th>\n",
       "      <th id=\"T_23f52_level0_col4\" class=\"col_heading level0 col4\" >Site</th>\n",
       "      <th id=\"T_23f52_level0_col5\" class=\"col_heading level0 col5\" >Subnet</th>\n",
       "      <th id=\"T_23f52_level0_col6\" class=\"col_heading level0 col6\" >Gateway</th>\n",
       "      <th id=\"T_23f52_level0_col7\" class=\"col_heading level0 col7\" >State</th>\n",
       "      <th id=\"T_23f52_level0_col8\" class=\"col_heading level0 col8\" >Error</th>\n",
       "    </tr>\n",
       "  </thead>\n",
       "  <tbody>\n",
       "    <tr>\n",
       "      <td id=\"T_23f52_row0_col0\" class=\"data row0 col0\" >1dfa453f-0abd-4aaa-8c49-20869888e7ab</td>\n",
       "      <td id=\"T_23f52_row0_col1\" class=\"data row0 col1\" >dpdk_net</td>\n",
       "      <td id=\"T_23f52_row0_col2\" class=\"data row0 col2\" >L2</td>\n",
       "      <td id=\"T_23f52_row0_col3\" class=\"data row0 col3\" >L2Bridge</td>\n",
       "      <td id=\"T_23f52_row0_col4\" class=\"data row0 col4\" >STAR</td>\n",
       "      <td id=\"T_23f52_row0_col5\" class=\"data row0 col5\" >None</td>\n",
       "      <td id=\"T_23f52_row0_col6\" class=\"data row0 col6\" >None</td>\n",
       "      <td id=\"T_23f52_row0_col7\" class=\"data row0 col7\" >Active</td>\n",
       "      <td id=\"T_23f52_row0_col8\" class=\"data row0 col8\" ></td>\n",
       "    </tr>\n",
       "  </tbody>\n",
       "</table>\n"
      ],
      "text/plain": [
       "<pandas.io.formats.style.Styler at 0x78f2b6044910>"
      ]
     },
     "metadata": {},
     "output_type": "display_data"
    },
    {
     "data": {
      "text/html": [
       "<style type=\"text/css\">\n",
       "#T_cf9b9 caption {\n",
       "  text-align: center;\n",
       "  font-size: 150%;\n",
       "  caption-side: top;\n",
       "}\n",
       "#T_cf9b9 th {\n",
       "  text-align: left;\n",
       "}\n",
       "#T_cf9b9 tr:nth-child(even) {\n",
       "  background: #ffffff;\n",
       "  color: #231f20;\n",
       "}\n",
       "#T_cf9b9 tr:nth-child(odd) {\n",
       "  background: #dbf3ff;\n",
       "  color: #231f20;\n",
       "}\n",
       "#T_cf9b9 .level0 {\n",
       "  border: 1px black solid !important;\n",
       "  background: #ffffff;\n",
       "  color: #231f20;\n",
       "}\n",
       "#T_cf9b9_row0_col0, #T_cf9b9_row0_col1, #T_cf9b9_row0_col2, #T_cf9b9_row0_col3, #T_cf9b9_row0_col4, #T_cf9b9_row0_col5, #T_cf9b9_row0_col6, #T_cf9b9_row0_col7, #T_cf9b9_row0_col8, #T_cf9b9_row0_col9, #T_cf9b9_row0_col10, #T_cf9b9_row0_col11, #T_cf9b9_row0_col12, #T_cf9b9_row1_col0, #T_cf9b9_row1_col1, #T_cf9b9_row1_col2, #T_cf9b9_row1_col3, #T_cf9b9_row1_col4, #T_cf9b9_row1_col5, #T_cf9b9_row1_col6, #T_cf9b9_row1_col7, #T_cf9b9_row1_col8, #T_cf9b9_row1_col9, #T_cf9b9_row1_col10, #T_cf9b9_row1_col11, #T_cf9b9_row1_col12, #T_cf9b9_row2_col0, #T_cf9b9_row2_col1, #T_cf9b9_row2_col2, #T_cf9b9_row2_col3, #T_cf9b9_row2_col4, #T_cf9b9_row2_col5, #T_cf9b9_row2_col6, #T_cf9b9_row2_col7, #T_cf9b9_row2_col8, #T_cf9b9_row2_col9, #T_cf9b9_row2_col10, #T_cf9b9_row2_col11, #T_cf9b9_row2_col12 {\n",
       "  text-align: left;\n",
       "  border: 1px #231f20 solid !important;\n",
       "  overwrite: False;\n",
       "}\n",
       "</style>\n",
       "<table id=\"T_cf9b9\">\n",
       "  <caption>Interfaces</caption>\n",
       "  <thead>\n",
       "    <tr>\n",
       "      <th id=\"T_cf9b9_level0_col0\" class=\"col_heading level0 col0\" >Name</th>\n",
       "      <th id=\"T_cf9b9_level0_col1\" class=\"col_heading level0 col1\" >Short Name</th>\n",
       "      <th id=\"T_cf9b9_level0_col2\" class=\"col_heading level0 col2\" >Node</th>\n",
       "      <th id=\"T_cf9b9_level0_col3\" class=\"col_heading level0 col3\" >Network</th>\n",
       "      <th id=\"T_cf9b9_level0_col4\" class=\"col_heading level0 col4\" >Bandwidth</th>\n",
       "      <th id=\"T_cf9b9_level0_col5\" class=\"col_heading level0 col5\" >Mode</th>\n",
       "      <th id=\"T_cf9b9_level0_col6\" class=\"col_heading level0 col6\" >VLAN</th>\n",
       "      <th id=\"T_cf9b9_level0_col7\" class=\"col_heading level0 col7\" >MAC</th>\n",
       "      <th id=\"T_cf9b9_level0_col8\" class=\"col_heading level0 col8\" >Physical Device</th>\n",
       "      <th id=\"T_cf9b9_level0_col9\" class=\"col_heading level0 col9\" >Device</th>\n",
       "      <th id=\"T_cf9b9_level0_col10\" class=\"col_heading level0 col10\" >IP Address</th>\n",
       "      <th id=\"T_cf9b9_level0_col11\" class=\"col_heading level0 col11\" >Numa Node</th>\n",
       "      <th id=\"T_cf9b9_level0_col12\" class=\"col_heading level0 col12\" >Switch Port</th>\n",
       "    </tr>\n",
       "  </thead>\n",
       "  <tbody>\n",
       "    <tr>\n",
       "      <td id=\"T_cf9b9_row0_col0\" class=\"data row0 col0\" >h1-h1_basic_2-p1</td>\n",
       "      <td id=\"T_cf9b9_row0_col1\" class=\"data row0 col1\" >p1</td>\n",
       "      <td id=\"T_cf9b9_row0_col2\" class=\"data row0 col2\" >h1</td>\n",
       "      <td id=\"T_cf9b9_row0_col3\" class=\"data row0 col3\" >dpdk_net</td>\n",
       "      <td id=\"T_cf9b9_row0_col4\" class=\"data row0 col4\" >100</td>\n",
       "      <td id=\"T_cf9b9_row0_col5\" class=\"data row0 col5\" >manual</td>\n",
       "      <td id=\"T_cf9b9_row0_col6\" class=\"data row0 col6\" ></td>\n",
       "      <td id=\"T_cf9b9_row0_col7\" class=\"data row0 col7\" >06:66:50:E1:F5:36</td>\n",
       "      <td id=\"T_cf9b9_row0_col8\" class=\"data row0 col8\" >enp7s0</td>\n",
       "      <td id=\"T_cf9b9_row0_col9\" class=\"data row0 col9\" >enp7s0</td>\n",
       "      <td id=\"T_cf9b9_row0_col10\" class=\"data row0 col10\" >fe80::466:50ff:fee1:f536</td>\n",
       "      <td id=\"T_cf9b9_row0_col11\" class=\"data row0 col11\" >4</td>\n",
       "      <td id=\"T_cf9b9_row0_col12\" class=\"data row0 col12\" >HundredGigE0/0/0/9</td>\n",
       "    </tr>\n",
       "    <tr>\n",
       "      <td id=\"T_cf9b9_row1_col0\" class=\"data row1 col0\" >h1-h1_basic_1-p1</td>\n",
       "      <td id=\"T_cf9b9_row1_col1\" class=\"data row1 col1\" >p1</td>\n",
       "      <td id=\"T_cf9b9_row1_col2\" class=\"data row1 col2\" >h1</td>\n",
       "      <td id=\"T_cf9b9_row1_col3\" class=\"data row1 col3\" >dpdk_net</td>\n",
       "      <td id=\"T_cf9b9_row1_col4\" class=\"data row1 col4\" >100</td>\n",
       "      <td id=\"T_cf9b9_row1_col5\" class=\"data row1 col5\" >manual</td>\n",
       "      <td id=\"T_cf9b9_row1_col6\" class=\"data row1 col6\" ></td>\n",
       "      <td id=\"T_cf9b9_row1_col7\" class=\"data row1 col7\" >26:BD:B4:2A:A6:BB</td>\n",
       "      <td id=\"T_cf9b9_row1_col8\" class=\"data row1 col8\" >enp8s0</td>\n",
       "      <td id=\"T_cf9b9_row1_col9\" class=\"data row1 col9\" >enp8s0</td>\n",
       "      <td id=\"T_cf9b9_row1_col10\" class=\"data row1 col10\" >fe80::24bd:b4ff:fe2a:a6bb</td>\n",
       "      <td id=\"T_cf9b9_row1_col11\" class=\"data row1 col11\" >4</td>\n",
       "      <td id=\"T_cf9b9_row1_col12\" class=\"data row1 col12\" >HundredGigE0/0/0/9</td>\n",
       "    </tr>\n",
       "    <tr>\n",
       "      <td id=\"T_cf9b9_row2_col0\" class=\"data row2 col0\" >h2-h2_basic_1-p1</td>\n",
       "      <td id=\"T_cf9b9_row2_col1\" class=\"data row2 col1\" >p1</td>\n",
       "      <td id=\"T_cf9b9_row2_col2\" class=\"data row2 col2\" >h2</td>\n",
       "      <td id=\"T_cf9b9_row2_col3\" class=\"data row2 col3\" >dpdk_net</td>\n",
       "      <td id=\"T_cf9b9_row2_col4\" class=\"data row2 col4\" >100</td>\n",
       "      <td id=\"T_cf9b9_row2_col5\" class=\"data row2 col5\" >manual</td>\n",
       "      <td id=\"T_cf9b9_row2_col6\" class=\"data row2 col6\" ></td>\n",
       "      <td id=\"T_cf9b9_row2_col7\" class=\"data row2 col7\" >26:CC:22:5D:27:52</td>\n",
       "      <td id=\"T_cf9b9_row2_col8\" class=\"data row2 col8\" >enp7s0</td>\n",
       "      <td id=\"T_cf9b9_row2_col9\" class=\"data row2 col9\" >enp7s0</td>\n",
       "      <td id=\"T_cf9b9_row2_col10\" class=\"data row2 col10\" >fe80::24cc:22ff:fe5d:2752</td>\n",
       "      <td id=\"T_cf9b9_row2_col11\" class=\"data row2 col11\" >4</td>\n",
       "      <td id=\"T_cf9b9_row2_col12\" class=\"data row2 col12\" >HundredGigE0/0/0/9</td>\n",
       "    </tr>\n",
       "  </tbody>\n",
       "</table>\n"
      ],
      "text/plain": [
       "<pandas.io.formats.style.Styler at 0x78f2b46a1a50>"
      ]
     },
     "metadata": {},
     "output_type": "display_data"
    },
    {
     "name": "stdout",
     "output_type": "stream",
     "text": [
      "\n",
      "Time to print interfaces 294 seconds\n"
     ]
    },
    {
     "data": {
      "text/plain": [
       "'4acd25b5-5de5-4027-b518-21c1ea0c1c3a'"
      ]
     },
     "execution_count": 22,
     "metadata": {},
     "output_type": "execute_result"
    }
   ],
   "source": [
    "from fabrictestbed_extensions.fablib.fablib import FablibManager\n",
    "fablib = FablibManager()\n",
    "\n",
    "SLICE      = \"dpdk-basicfwd\"\n",
    "SITE       = \"STAR\"\n",
    "IMAGE      = \"default_ubuntu_24\"\n",
    "CORES      = 8\n",
    "RAM_GB     = 16\n",
    "DISK_GB    = 100\n",
    "\n",
    "slice = fablib.new_slice(name=SLICE)\n",
    "\n",
    "nodes, ifaces = [], []\n",
    "\n",
    "node1 = slice.add_node(name=\"h1\", site=SITE, image=IMAGE, cores=CORES, ram=RAM_GB, disk=DISK_GB)\n",
    "\n",
    "comp1 = node1.add_component(model=\"NIC_Basic\", name=\"h1_basic_1\")\n",
    "iface1 = comp1.get_interfaces()[0]\n",
    "iface1.set_mode(\"manual\")\n",
    "ifaces.append(iface1)\n",
    "\n",
    "comp2 = node1.add_component(model=\"NIC_Basic\", name=\"h1_basic_2\")\n",
    "iface2 = comp2.get_interfaces()[0]\n",
    "iface2.set_mode(\"manual\")\n",
    "ifaces.append(iface2)\n",
    "\n",
    "nodes.append(node1)\n",
    "\n",
    "node2 = slice.add_node(name=\"h2\", site=SITE, image=IMAGE, cores=CORES, ram=RAM_GB, disk=DISK_GB)\n",
    "\n",
    "comp1 = node2.add_component(model=\"NIC_Basic\", name=\"h2_basic_1\")\n",
    "iface1 = comp1.get_interfaces()[0]\n",
    "iface1.set_mode(\"manual\")\n",
    "ifaces.append(iface1)\n",
    "\n",
    "nodes.append(node2)\n",
    "\n",
    "slice.add_l2network(name=\"dpdk_net\", interfaces=ifaces)\n",
    "\n",
    "slice.submit(wait=True)"
   ]
  },
  {
   "cell_type": "code",
   "execution_count": 1,
   "id": "492470c9-c405-426d-90bc-ec3d5b8814f2",
   "metadata": {},
   "outputs": [],
   "source": [
    "from fabrictestbed_extensions.fablib.attestable_switch import Attestable_Switch\n",
    "from fabrictestbed_extensions.fablib.fablib import FablibManager\n",
    "\n",
    "slice_name = \"dpdk-basicfwd\"\n",
    "\n",
    "fablib = FablibManager()\n",
    "slice = fablib.get_slice(name=slice_name)\n",
    "\n",
    "nodes = []\n",
    "nodes.append(slice.get_node(name=\"h1\"))\n",
    "nodes.append(slice.get_node(name=\"h2\"))"
   ]
  },
  {
   "cell_type": "code",
   "execution_count": 21,
   "id": "3caebf93-47bc-4b5b-bb8e-64875f20b609",
   "metadata": {},
   "outputs": [],
   "source": [
    "# slice.delete()"
   ]
  },
  {
   "cell_type": "code",
   "execution_count": 2,
   "id": "efecf95a-8d06-4003-addc-23f6dbe52442",
   "metadata": {},
   "outputs": [],
   "source": [
    "h1, h2 = [n for n in slice.get_nodes()] "
   ]
  },
  {
   "cell_type": "code",
   "execution_count": null,
   "id": "100c5c56-a8c9-41a7-8a6f-4da81c6a10e1",
   "metadata": {},
   "outputs": [],
   "source": [
    "COMMON_SETUP = r\"\"\"\n",
    "sudo apt-get update -y\n",
    "sudo apt-get install -y git build-essential \\\n",
    "    meson ninja-build pkg-config libnuma-dev libelf-dev \\\n",
    "    python3-pyelftools libpcap-dev \\\n",
    "    rdma-core libibverbs-dev ibverbs-utils librdmacm-dev linux-modules-extra-$(uname -r) linux-headers-$(uname -r)\n",
    "\n",
    "# 1 GiB of 2 MB huge-pages for DPDK\n",
    "echo 512 | sudo tee /sys/kernel/mm/hugepages/hugepages-2048kB/nr_hugepages\n",
    "sudo mkdir -p /mnt/huge\n",
    "grep -q hugetlbfs /proc/mounts || sudo mount -t hugetlbfs nodev /mnt/huge\n",
    "\n",
    "# Load Mellanox verbs stack\n",
    "sudo modprobe -a ib_uverbs mlx5_core mlx5_ib\n",
    "\n",
    "# Build + install the latest mainline DPDK with only the skeleton example\n",
    "test -d dpdk || git clone --depth 1 https://github.com/DPDK/dpdk.git ~/dpdk\n",
    "cd dpdk\n",
    "meson setup build -Dexamples=skeleton --prefix=/usr/local\n",
    "ninja -C build\n",
    "sudo ninja -C build install\n",
    "sudo ldconfig\n",
    "\"\"\"\n",
    "\n",
    "#\n",
    "# 1. Provision both hosts\n",
    "#\n",
    "for node in (h1, h2):\n",
    "    print(f\"=== provisioning {node.get_name()} ===\")\n",
    "    node.execute(COMMON_SETUP)"
   ]
  },
  {
   "cell_type": "code",
   "execution_count": 4,
   "id": "a94c46c9-c8a5-4141-87ac-bbd62ce450d8",
   "metadata": {},
   "outputs": [
    {
     "name": "stdout",
     "output_type": "stream",
     "text": [
      "--- h1 NICs visible to mlx5 PMD ---\n",
      "\n",
      "Network devices using kernel driver\n",
      "===================================\n",
      "0000:03:00.0 'Virtio 1.0 network device 1041' if=enp3s0 drv=virtio-pci unused= *Active*\n",
      "0000:07:00.0 'MT28908 Family [ConnectX-6 Virtual Function] 101c' if=enp7s0 drv=mlx5_core unused= \n",
      "0000:08:00.0 'MT28908 Family [ConnectX-6 Virtual Function] 101c' if=enp8s0 drv=mlx5_core unused= \n",
      "\n",
      "No 'Baseband' devices detected\n",
      "==============================\n",
      "\n",
      "No 'Crypto' devices detected\n",
      "============================\n",
      "\n",
      "No 'DMA' devices detected\n",
      "=========================\n",
      "\n",
      "No 'Eventdev' devices detected\n",
      "==============================\n",
      "\n",
      "No 'Mempool' devices detected\n",
      "=============================\n",
      "\n",
      "No 'Compress' devices detected\n",
      "==============================\n",
      "\n",
      "Misc (rawdev) devices using kernel driver\n",
      "=========================================\n",
      "0000:04:00.0 'Virtio 1.0 block device 1042' drv=virtio-pci unused= \n",
      "\n",
      "No 'Regex' devices detected\n",
      "===========================\n",
      "\n",
      "No 'ML' devices detected\n",
      "========================\n"
     ]
    },
    {
     "data": {
      "text/plain": [
       "(\"\\nNetwork devices using kernel driver\\n===================================\\n0000:03:00.0 'Virtio 1.0 network device 1041' if=enp3s0 drv=virtio-pci unused= *Active*\\n0000:07:00.0 'MT28908 Family [ConnectX-6 Virtual Function] 101c' if=enp7s0 drv=mlx5_core unused= \\n0000:08:00.0 'MT28908 Family [ConnectX-6 Virtual Function] 101c' if=enp8s0 drv=mlx5_core unused= \\n\\nNo 'Baseband' devices detected\\n==============================\\n\\nNo 'Crypto' devices detected\\n============================\\n\\nNo 'DMA' devices detected\\n=========================\\n\\nNo 'Eventdev' devices detected\\n==============================\\n\\nNo 'Mempool' devices detected\\n=============================\\n\\nNo 'Compress' devices detected\\n==============================\\n\\nMisc (rawdev) devices using kernel driver\\n=========================================\\n0000:04:00.0 'Virtio 1.0 block device 1042' drv=virtio-pci unused= \\n\\nNo 'Regex' devices detected\\n===========================\\n\\nNo 'ML' devices detected\\n========================\\n\",\n",
       " '')"
      ]
     },
     "execution_count": 4,
     "metadata": {},
     "output_type": "execute_result"
    }
   ],
   "source": [
    "print(\"--- h1 NICs visible to mlx5 PMD ---\")\n",
    "h1.execute(\"sudo /usr/local/bin/dpdk-devbind.py --status\")"
   ]
  },
  {
   "cell_type": "code",
   "execution_count": 8,
   "id": "51abedae-2764-4372-bea5-381044c2b281",
   "metadata": {},
   "outputs": [
    {
     "name": "stdout",
     "output_type": "stream",
     "text": [
      "dpdk-skeleton\n",
      "dpdk-skeleton.p\n",
      "skeleton\n"
     ]
    },
    {
     "data": {
      "text/plain": [
       "('dpdk-skeleton\\ndpdk-skeleton.p\\nskeleton\\n', '')"
      ]
     },
     "execution_count": 8,
     "metadata": {},
     "output_type": "execute_result"
    }
   ],
   "source": [
    "h1.execute(\"ls dpdk/build/examples\")"
   ]
  },
  {
   "cell_type": "code",
   "execution_count": null,
   "id": "a32e2edb-ecb8-4c0c-9e60-cafb2d2057b2",
   "metadata": {},
   "outputs": [
    {
     "name": "stdout",
     "output_type": "stream",
     "text": [
      "--- starting basicfwd on h1 ---\n",
      "\u001b[31mEAL: Detected CPU lcores: 8\n",
      "EAL: Detected NUMA nodes: 1\n",
      "\u001b[0m\u001b[31mEAL: Detected static linkage of DPDK\n",
      "EAL: Multi-process socket /var/run/dpdk/rte/mp_socket\n",
      "EAL: Selected IOVA mode 'PA'\n",
      "\u001b[0m"
     ]
    }
   ],
   "source": [
    "print(\"--- starting basicfwd on h1 ---\")\n",
    "h1.execute(\"\"\"\n",
    "sudo dpdk/build/examples/dpdk-skeleton \\\\\n",
    "     -l 0-1 -n 4 -a 0000:07:00.0 -a 0000:08:00.0\n",
    "\"\"\")"
   ]
  },
  {
   "cell_type": "code",
   "execution_count": 15,
   "id": "7679d9e5-6e84-4f2b-8be5-9d288c991e44",
   "metadata": {},
   "outputs": [
    {
     "data": {
      "text/plain": [
       "('', '')"
      ]
     },
     "execution_count": 15,
     "metadata": {},
     "output_type": "execute_result"
    }
   ],
   "source": [
    "h1.execute(\"sudo pkill -9 -f dpdk\")"
   ]
  },
  {
   "cell_type": "markdown",
   "id": "aa32b5e7-a8a6-4718-8e0e-30af9bcd153b",
   "metadata": {},
   "source": [
    "# igb_uio"
   ]
  },
  {
   "cell_type": "code",
   "execution_count": 9,
   "id": "fe9f008c-d496-42ee-8264-4f46a00eae23",
   "metadata": {},
   "outputs": [
    {
     "name": "stdout",
     "output_type": "stream",
     "text": [
      "\n",
      "Retry: 7, Time: 195 sec\n"
     ]
    },
    {
     "data": {
      "text/html": [
       "<style type=\"text/css\">\n",
       "#T_5bfbf tr:nth-child(even) {\n",
       "  background: #dbf3ff;\n",
       "  color: #231f20;\n",
       "}\n",
       "#T_5bfbf tr:nth-child(odd) {\n",
       "  background: #ffffff;\n",
       "  color: #231f20;\n",
       "}\n",
       "#T_5bfbf caption {\n",
       "  text-align: center;\n",
       "  font-size: 150%;\n",
       "}\n",
       "#T_5bfbf_row0_col0, #T_5bfbf_row0_col1, #T_5bfbf_row1_col0, #T_5bfbf_row1_col1, #T_5bfbf_row2_col0, #T_5bfbf_row2_col1, #T_5bfbf_row3_col0, #T_5bfbf_row3_col1, #T_5bfbf_row4_col0, #T_5bfbf_row4_col1, #T_5bfbf_row5_col0 {\n",
       "  text-align: left;\n",
       "  border: 1px #231f20 solid !important;\n",
       "  overwrite: False;\n",
       "  background-color: ;\n",
       "}\n",
       "#T_5bfbf_row5_col1 {\n",
       "  text-align: left;\n",
       "  border: 1px #231f20 solid !important;\n",
       "  overwrite: False;\n",
       "  background-color: #c3ffc4;\n",
       "}\n",
       "</style>\n",
       "<table id=\"T_5bfbf\">\n",
       "  <caption>Slice</caption>\n",
       "  <thead>\n",
       "  </thead>\n",
       "  <tbody>\n",
       "    <tr>\n",
       "      <td id=\"T_5bfbf_row0_col0\" class=\"data row0 col0\" >ID</td>\n",
       "      <td id=\"T_5bfbf_row0_col1\" class=\"data row0 col1\" >ddc64a4e-840a-40d8-85ea-e25eb5666f37</td>\n",
       "    </tr>\n",
       "    <tr>\n",
       "      <td id=\"T_5bfbf_row1_col0\" class=\"data row1 col0\" >Name</td>\n",
       "      <td id=\"T_5bfbf_row1_col1\" class=\"data row1 col1\" >dpdk-basicfwd</td>\n",
       "    </tr>\n",
       "    <tr>\n",
       "      <td id=\"T_5bfbf_row2_col0\" class=\"data row2 col0\" >Lease Expiration (UTC)</td>\n",
       "      <td id=\"T_5bfbf_row2_col1\" class=\"data row2 col1\" >2025-06-28 21:20:57 +0000</td>\n",
       "    </tr>\n",
       "    <tr>\n",
       "      <td id=\"T_5bfbf_row3_col0\" class=\"data row3 col0\" >Lease Start (UTC)</td>\n",
       "      <td id=\"T_5bfbf_row3_col1\" class=\"data row3 col1\" >2025-06-27 21:20:57 +0000</td>\n",
       "    </tr>\n",
       "    <tr>\n",
       "      <td id=\"T_5bfbf_row4_col0\" class=\"data row4 col0\" >Project ID</td>\n",
       "      <td id=\"T_5bfbf_row4_col1\" class=\"data row4 col1\" >e34dd6bb-f899-499d-a7af-8dfa60559ecb</td>\n",
       "    </tr>\n",
       "    <tr>\n",
       "      <td id=\"T_5bfbf_row5_col0\" class=\"data row5 col0\" >State</td>\n",
       "      <td id=\"T_5bfbf_row5_col1\" class=\"data row5 col1\" >StableOK</td>\n",
       "    </tr>\n",
       "  </tbody>\n",
       "</table>\n"
      ],
      "text/plain": [
       "<pandas.io.formats.style.Styler at 0x7e0bbc6e9650>"
      ]
     },
     "metadata": {},
     "output_type": "display_data"
    },
    {
     "data": {
      "text/html": [
       "<style type=\"text/css\">\n",
       "#T_c09df caption {\n",
       "  text-align: center;\n",
       "  font-size: 150%;\n",
       "  caption-side: top;\n",
       "}\n",
       "#T_c09df th {\n",
       "  text-align: left;\n",
       "}\n",
       "#T_c09df tr:nth-child(even) {\n",
       "  background: #ffffff;\n",
       "  color: #231f20;\n",
       "}\n",
       "#T_c09df tr:nth-child(odd) {\n",
       "  background: #dbf3ff;\n",
       "  color: #231f20;\n",
       "}\n",
       "#T_c09df .level0 {\n",
       "  border: 1px black solid !important;\n",
       "  background: #ffffff;\n",
       "  color: #231f20;\n",
       "}\n",
       "#T_c09df_row0_col0, #T_c09df_row0_col1, #T_c09df_row0_col2, #T_c09df_row0_col3, #T_c09df_row0_col4, #T_c09df_row0_col5, #T_c09df_row0_col6, #T_c09df_row0_col7, #T_c09df_row0_col8, #T_c09df_row0_col9, #T_c09df_row0_col10, #T_c09df_row0_col13, #T_c09df_row0_col14, #T_c09df_row0_col15, #T_c09df_row1_col0, #T_c09df_row1_col1, #T_c09df_row1_col2, #T_c09df_row1_col3, #T_c09df_row1_col4, #T_c09df_row1_col5, #T_c09df_row1_col6, #T_c09df_row1_col7, #T_c09df_row1_col8, #T_c09df_row1_col9, #T_c09df_row1_col10, #T_c09df_row1_col13, #T_c09df_row1_col14, #T_c09df_row1_col15 {\n",
       "  text-align: left;\n",
       "  border: 1px #231f20 solid !important;\n",
       "  overwrite: False;\n",
       "}\n",
       "#T_c09df_row0_col11, #T_c09df_row1_col11 {\n",
       "  text-align: left;\n",
       "  border: 1px #231f20 solid !important;\n",
       "  overwrite: False;\n",
       "  background-color: #c3ffc4;\n",
       "}\n",
       "#T_c09df_row0_col12, #T_c09df_row1_col12 {\n",
       "  text-align: left;\n",
       "  border: 1px #231f20 solid !important;\n",
       "  overwrite: False;\n",
       "  background-color: ;\n",
       "}\n",
       "</style>\n",
       "<table id=\"T_c09df\">\n",
       "  <caption>Nodes</caption>\n",
       "  <thead>\n",
       "    <tr>\n",
       "      <th id=\"T_c09df_level0_col0\" class=\"col_heading level0 col0\" >ID</th>\n",
       "      <th id=\"T_c09df_level0_col1\" class=\"col_heading level0 col1\" >Name</th>\n",
       "      <th id=\"T_c09df_level0_col2\" class=\"col_heading level0 col2\" >Cores</th>\n",
       "      <th id=\"T_c09df_level0_col3\" class=\"col_heading level0 col3\" >RAM</th>\n",
       "      <th id=\"T_c09df_level0_col4\" class=\"col_heading level0 col4\" >Disk</th>\n",
       "      <th id=\"T_c09df_level0_col5\" class=\"col_heading level0 col5\" >Image</th>\n",
       "      <th id=\"T_c09df_level0_col6\" class=\"col_heading level0 col6\" >Image Type</th>\n",
       "      <th id=\"T_c09df_level0_col7\" class=\"col_heading level0 col7\" >Host</th>\n",
       "      <th id=\"T_c09df_level0_col8\" class=\"col_heading level0 col8\" >Site</th>\n",
       "      <th id=\"T_c09df_level0_col9\" class=\"col_heading level0 col9\" >Username</th>\n",
       "      <th id=\"T_c09df_level0_col10\" class=\"col_heading level0 col10\" >Management IP</th>\n",
       "      <th id=\"T_c09df_level0_col11\" class=\"col_heading level0 col11\" >State</th>\n",
       "      <th id=\"T_c09df_level0_col12\" class=\"col_heading level0 col12\" >Error</th>\n",
       "      <th id=\"T_c09df_level0_col13\" class=\"col_heading level0 col13\" >SSH Command</th>\n",
       "      <th id=\"T_c09df_level0_col14\" class=\"col_heading level0 col14\" >Public SSH Key File</th>\n",
       "      <th id=\"T_c09df_level0_col15\" class=\"col_heading level0 col15\" >Private SSH Key File</th>\n",
       "    </tr>\n",
       "  </thead>\n",
       "  <tbody>\n",
       "    <tr>\n",
       "      <td id=\"T_c09df_row0_col0\" class=\"data row0 col0\" >1717e400-624c-426a-a60f-4e6937c1985f</td>\n",
       "      <td id=\"T_c09df_row0_col1\" class=\"data row0 col1\" >h1</td>\n",
       "      <td id=\"T_c09df_row0_col2\" class=\"data row0 col2\" >8</td>\n",
       "      <td id=\"T_c09df_row0_col3\" class=\"data row0 col3\" >16</td>\n",
       "      <td id=\"T_c09df_row0_col4\" class=\"data row0 col4\" >100</td>\n",
       "      <td id=\"T_c09df_row0_col5\" class=\"data row0 col5\" >default_ubuntu_24</td>\n",
       "      <td id=\"T_c09df_row0_col6\" class=\"data row0 col6\" >qcow2</td>\n",
       "      <td id=\"T_c09df_row0_col7\" class=\"data row0 col7\" >star-w3.fabric-testbed.net</td>\n",
       "      <td id=\"T_c09df_row0_col8\" class=\"data row0 col8\" >STAR</td>\n",
       "      <td id=\"T_c09df_row0_col9\" class=\"data row0 col9\" >ubuntu</td>\n",
       "      <td id=\"T_c09df_row0_col10\" class=\"data row0 col10\" >2001:400:a100:3030:f816:3eff:fe8c:a756</td>\n",
       "      <td id=\"T_c09df_row0_col11\" class=\"data row0 col11\" >Active</td>\n",
       "      <td id=\"T_c09df_row0_col12\" class=\"data row0 col12\" ></td>\n",
       "      <td id=\"T_c09df_row0_col13\" class=\"data row0 col13\" >ssh -i /home/fabric/work/fabric_config/slice_key -F /home/fabric/work/fabric_config/ssh_config ubuntu@2001:400:a100:3030:f816:3eff:fe8c:a756</td>\n",
       "      <td id=\"T_c09df_row0_col14\" class=\"data row0 col14\" >/home/fabric/work/fabric_config/slice_key.pub</td>\n",
       "      <td id=\"T_c09df_row0_col15\" class=\"data row0 col15\" >/home/fabric/work/fabric_config/slice_key</td>\n",
       "    </tr>\n",
       "    <tr>\n",
       "      <td id=\"T_c09df_row1_col0\" class=\"data row1 col0\" >694ba44f-1606-4daa-b86e-cc4f9b23de62</td>\n",
       "      <td id=\"T_c09df_row1_col1\" class=\"data row1 col1\" >h2</td>\n",
       "      <td id=\"T_c09df_row1_col2\" class=\"data row1 col2\" >8</td>\n",
       "      <td id=\"T_c09df_row1_col3\" class=\"data row1 col3\" >16</td>\n",
       "      <td id=\"T_c09df_row1_col4\" class=\"data row1 col4\" >100</td>\n",
       "      <td id=\"T_c09df_row1_col5\" class=\"data row1 col5\" >default_ubuntu_24</td>\n",
       "      <td id=\"T_c09df_row1_col6\" class=\"data row1 col6\" >qcow2</td>\n",
       "      <td id=\"T_c09df_row1_col7\" class=\"data row1 col7\" >star-w3.fabric-testbed.net</td>\n",
       "      <td id=\"T_c09df_row1_col8\" class=\"data row1 col8\" >STAR</td>\n",
       "      <td id=\"T_c09df_row1_col9\" class=\"data row1 col9\" >ubuntu</td>\n",
       "      <td id=\"T_c09df_row1_col10\" class=\"data row1 col10\" >2001:400:a100:3030:f816:3eff:fefc:6612</td>\n",
       "      <td id=\"T_c09df_row1_col11\" class=\"data row1 col11\" >Active</td>\n",
       "      <td id=\"T_c09df_row1_col12\" class=\"data row1 col12\" ></td>\n",
       "      <td id=\"T_c09df_row1_col13\" class=\"data row1 col13\" >ssh -i /home/fabric/work/fabric_config/slice_key -F /home/fabric/work/fabric_config/ssh_config ubuntu@2001:400:a100:3030:f816:3eff:fefc:6612</td>\n",
       "      <td id=\"T_c09df_row1_col14\" class=\"data row1 col14\" >/home/fabric/work/fabric_config/slice_key.pub</td>\n",
       "      <td id=\"T_c09df_row1_col15\" class=\"data row1 col15\" >/home/fabric/work/fabric_config/slice_key</td>\n",
       "    </tr>\n",
       "  </tbody>\n",
       "</table>\n"
      ],
      "text/plain": [
       "<pandas.io.formats.style.Styler at 0x7e0bbc5013d0>"
      ]
     },
     "metadata": {},
     "output_type": "display_data"
    },
    {
     "data": {
      "text/html": [
       "<style type=\"text/css\">\n",
       "#T_22acf caption {\n",
       "  text-align: center;\n",
       "  font-size: 150%;\n",
       "  caption-side: top;\n",
       "}\n",
       "#T_22acf th {\n",
       "  text-align: left;\n",
       "}\n",
       "#T_22acf tr:nth-child(even) {\n",
       "  background: #ffffff;\n",
       "  color: #231f20;\n",
       "}\n",
       "#T_22acf tr:nth-child(odd) {\n",
       "  background: #dbf3ff;\n",
       "  color: #231f20;\n",
       "}\n",
       "#T_22acf .level0 {\n",
       "  border: 1px black solid !important;\n",
       "  background: #ffffff;\n",
       "  color: #231f20;\n",
       "}\n",
       "#T_22acf_row0_col0, #T_22acf_row0_col1, #T_22acf_row0_col2, #T_22acf_row0_col3, #T_22acf_row0_col4, #T_22acf_row0_col5, #T_22acf_row0_col6 {\n",
       "  text-align: left;\n",
       "  border: 1px #231f20 solid !important;\n",
       "  overwrite: False;\n",
       "}\n",
       "#T_22acf_row0_col7 {\n",
       "  text-align: left;\n",
       "  border: 1px #231f20 solid !important;\n",
       "  overwrite: False;\n",
       "  background-color: #c3ffc4;\n",
       "}\n",
       "#T_22acf_row0_col8 {\n",
       "  text-align: left;\n",
       "  border: 1px #231f20 solid !important;\n",
       "  overwrite: False;\n",
       "  background-color: ;\n",
       "}\n",
       "</style>\n",
       "<table id=\"T_22acf\">\n",
       "  <caption>Networks</caption>\n",
       "  <thead>\n",
       "    <tr>\n",
       "      <th id=\"T_22acf_level0_col0\" class=\"col_heading level0 col0\" >ID</th>\n",
       "      <th id=\"T_22acf_level0_col1\" class=\"col_heading level0 col1\" >Name</th>\n",
       "      <th id=\"T_22acf_level0_col2\" class=\"col_heading level0 col2\" >Layer</th>\n",
       "      <th id=\"T_22acf_level0_col3\" class=\"col_heading level0 col3\" >Type</th>\n",
       "      <th id=\"T_22acf_level0_col4\" class=\"col_heading level0 col4\" >Site</th>\n",
       "      <th id=\"T_22acf_level0_col5\" class=\"col_heading level0 col5\" >Subnet</th>\n",
       "      <th id=\"T_22acf_level0_col6\" class=\"col_heading level0 col6\" >Gateway</th>\n",
       "      <th id=\"T_22acf_level0_col7\" class=\"col_heading level0 col7\" >State</th>\n",
       "      <th id=\"T_22acf_level0_col8\" class=\"col_heading level0 col8\" >Error</th>\n",
       "    </tr>\n",
       "  </thead>\n",
       "  <tbody>\n",
       "    <tr>\n",
       "      <td id=\"T_22acf_row0_col0\" class=\"data row0 col0\" >59f25351-52b0-4cbc-9098-8d2ccc64bb4b</td>\n",
       "      <td id=\"T_22acf_row0_col1\" class=\"data row0 col1\" >dpdk_net</td>\n",
       "      <td id=\"T_22acf_row0_col2\" class=\"data row0 col2\" >L2</td>\n",
       "      <td id=\"T_22acf_row0_col3\" class=\"data row0 col3\" >L2Bridge</td>\n",
       "      <td id=\"T_22acf_row0_col4\" class=\"data row0 col4\" >STAR</td>\n",
       "      <td id=\"T_22acf_row0_col5\" class=\"data row0 col5\" >None</td>\n",
       "      <td id=\"T_22acf_row0_col6\" class=\"data row0 col6\" >None</td>\n",
       "      <td id=\"T_22acf_row0_col7\" class=\"data row0 col7\" >Active</td>\n",
       "      <td id=\"T_22acf_row0_col8\" class=\"data row0 col8\" ></td>\n",
       "    </tr>\n",
       "  </tbody>\n",
       "</table>\n"
      ],
      "text/plain": [
       "<pandas.io.formats.style.Styler at 0x7e0bbc169650>"
      ]
     },
     "metadata": {},
     "output_type": "display_data"
    },
    {
     "data": {
      "text/html": [
       "<style type=\"text/css\">\n",
       "#T_76dc0 caption {\n",
       "  text-align: center;\n",
       "  font-size: 150%;\n",
       "  caption-side: top;\n",
       "}\n",
       "#T_76dc0 th {\n",
       "  text-align: left;\n",
       "}\n",
       "#T_76dc0 tr:nth-child(even) {\n",
       "  background: #ffffff;\n",
       "  color: #231f20;\n",
       "}\n",
       "#T_76dc0 tr:nth-child(odd) {\n",
       "  background: #dbf3ff;\n",
       "  color: #231f20;\n",
       "}\n",
       "#T_76dc0 .level0 {\n",
       "  border: 1px black solid !important;\n",
       "  background: #ffffff;\n",
       "  color: #231f20;\n",
       "}\n",
       "#T_76dc0_row0_col0, #T_76dc0_row0_col1, #T_76dc0_row0_col2, #T_76dc0_row0_col3, #T_76dc0_row0_col4, #T_76dc0_row0_col5, #T_76dc0_row0_col6, #T_76dc0_row0_col7, #T_76dc0_row0_col8, #T_76dc0_row0_col9, #T_76dc0_row0_col10, #T_76dc0_row0_col11, #T_76dc0_row0_col12, #T_76dc0_row1_col0, #T_76dc0_row1_col1, #T_76dc0_row1_col2, #T_76dc0_row1_col3, #T_76dc0_row1_col4, #T_76dc0_row1_col5, #T_76dc0_row1_col6, #T_76dc0_row1_col7, #T_76dc0_row1_col8, #T_76dc0_row1_col9, #T_76dc0_row1_col10, #T_76dc0_row1_col11, #T_76dc0_row1_col12, #T_76dc0_row2_col0, #T_76dc0_row2_col1, #T_76dc0_row2_col2, #T_76dc0_row2_col3, #T_76dc0_row2_col4, #T_76dc0_row2_col5, #T_76dc0_row2_col6, #T_76dc0_row2_col7, #T_76dc0_row2_col8, #T_76dc0_row2_col9, #T_76dc0_row2_col10, #T_76dc0_row2_col11, #T_76dc0_row2_col12 {\n",
       "  text-align: left;\n",
       "  border: 1px #231f20 solid !important;\n",
       "  overwrite: False;\n",
       "}\n",
       "</style>\n",
       "<table id=\"T_76dc0\">\n",
       "  <caption>Interfaces</caption>\n",
       "  <thead>\n",
       "    <tr>\n",
       "      <th id=\"T_76dc0_level0_col0\" class=\"col_heading level0 col0\" >Name</th>\n",
       "      <th id=\"T_76dc0_level0_col1\" class=\"col_heading level0 col1\" >Short Name</th>\n",
       "      <th id=\"T_76dc0_level0_col2\" class=\"col_heading level0 col2\" >Node</th>\n",
       "      <th id=\"T_76dc0_level0_col3\" class=\"col_heading level0 col3\" >Network</th>\n",
       "      <th id=\"T_76dc0_level0_col4\" class=\"col_heading level0 col4\" >Bandwidth</th>\n",
       "      <th id=\"T_76dc0_level0_col5\" class=\"col_heading level0 col5\" >Mode</th>\n",
       "      <th id=\"T_76dc0_level0_col6\" class=\"col_heading level0 col6\" >VLAN</th>\n",
       "      <th id=\"T_76dc0_level0_col7\" class=\"col_heading level0 col7\" >MAC</th>\n",
       "      <th id=\"T_76dc0_level0_col8\" class=\"col_heading level0 col8\" >Physical Device</th>\n",
       "      <th id=\"T_76dc0_level0_col9\" class=\"col_heading level0 col9\" >Device</th>\n",
       "      <th id=\"T_76dc0_level0_col10\" class=\"col_heading level0 col10\" >IP Address</th>\n",
       "      <th id=\"T_76dc0_level0_col11\" class=\"col_heading level0 col11\" >Numa Node</th>\n",
       "      <th id=\"T_76dc0_level0_col12\" class=\"col_heading level0 col12\" >Switch Port</th>\n",
       "    </tr>\n",
       "  </thead>\n",
       "  <tbody>\n",
       "    <tr>\n",
       "      <td id=\"T_76dc0_row0_col0\" class=\"data row0 col0\" >h1-h1_basic_1-p1</td>\n",
       "      <td id=\"T_76dc0_row0_col1\" class=\"data row0 col1\" >p1</td>\n",
       "      <td id=\"T_76dc0_row0_col2\" class=\"data row0 col2\" >h1</td>\n",
       "      <td id=\"T_76dc0_row0_col3\" class=\"data row0 col3\" >dpdk_net</td>\n",
       "      <td id=\"T_76dc0_row0_col4\" class=\"data row0 col4\" >100</td>\n",
       "      <td id=\"T_76dc0_row0_col5\" class=\"data row0 col5\" >manual</td>\n",
       "      <td id=\"T_76dc0_row0_col6\" class=\"data row0 col6\" ></td>\n",
       "      <td id=\"T_76dc0_row0_col7\" class=\"data row0 col7\" >06:66:50:E1:F5:36</td>\n",
       "      <td id=\"T_76dc0_row0_col8\" class=\"data row0 col8\" >enp7s0</td>\n",
       "      <td id=\"T_76dc0_row0_col9\" class=\"data row0 col9\" >enp7s0</td>\n",
       "      <td id=\"T_76dc0_row0_col10\" class=\"data row0 col10\" >fe80::466:50ff:fee1:f536</td>\n",
       "      <td id=\"T_76dc0_row0_col11\" class=\"data row0 col11\" >4</td>\n",
       "      <td id=\"T_76dc0_row0_col12\" class=\"data row0 col12\" >HundredGigE0/0/0/9</td>\n",
       "    </tr>\n",
       "    <tr>\n",
       "      <td id=\"T_76dc0_row1_col0\" class=\"data row1 col0\" >h1-h1_basic_2-p1</td>\n",
       "      <td id=\"T_76dc0_row1_col1\" class=\"data row1 col1\" >p1</td>\n",
       "      <td id=\"T_76dc0_row1_col2\" class=\"data row1 col2\" >h1</td>\n",
       "      <td id=\"T_76dc0_row1_col3\" class=\"data row1 col3\" >dpdk_net</td>\n",
       "      <td id=\"T_76dc0_row1_col4\" class=\"data row1 col4\" >100</td>\n",
       "      <td id=\"T_76dc0_row1_col5\" class=\"data row1 col5\" >manual</td>\n",
       "      <td id=\"T_76dc0_row1_col6\" class=\"data row1 col6\" ></td>\n",
       "      <td id=\"T_76dc0_row1_col7\" class=\"data row1 col7\" >26:BD:B4:2A:A6:BB</td>\n",
       "      <td id=\"T_76dc0_row1_col8\" class=\"data row1 col8\" >enp8s0</td>\n",
       "      <td id=\"T_76dc0_row1_col9\" class=\"data row1 col9\" >enp8s0</td>\n",
       "      <td id=\"T_76dc0_row1_col10\" class=\"data row1 col10\" >fe80::24bd:b4ff:fe2a:a6bb</td>\n",
       "      <td id=\"T_76dc0_row1_col11\" class=\"data row1 col11\" >4</td>\n",
       "      <td id=\"T_76dc0_row1_col12\" class=\"data row1 col12\" >HundredGigE0/0/0/9</td>\n",
       "    </tr>\n",
       "    <tr>\n",
       "      <td id=\"T_76dc0_row2_col0\" class=\"data row2 col0\" >h2-h2_basic_1-p1</td>\n",
       "      <td id=\"T_76dc0_row2_col1\" class=\"data row2 col1\" >p1</td>\n",
       "      <td id=\"T_76dc0_row2_col2\" class=\"data row2 col2\" >h2</td>\n",
       "      <td id=\"T_76dc0_row2_col3\" class=\"data row2 col3\" >dpdk_net</td>\n",
       "      <td id=\"T_76dc0_row2_col4\" class=\"data row2 col4\" >100</td>\n",
       "      <td id=\"T_76dc0_row2_col5\" class=\"data row2 col5\" >manual</td>\n",
       "      <td id=\"T_76dc0_row2_col6\" class=\"data row2 col6\" ></td>\n",
       "      <td id=\"T_76dc0_row2_col7\" class=\"data row2 col7\" >26:CC:22:5D:27:52</td>\n",
       "      <td id=\"T_76dc0_row2_col8\" class=\"data row2 col8\" >enp7s0</td>\n",
       "      <td id=\"T_76dc0_row2_col9\" class=\"data row2 col9\" >enp7s0</td>\n",
       "      <td id=\"T_76dc0_row2_col10\" class=\"data row2 col10\" >fe80::24cc:22ff:fe5d:2752</td>\n",
       "      <td id=\"T_76dc0_row2_col11\" class=\"data row2 col11\" >4</td>\n",
       "      <td id=\"T_76dc0_row2_col12\" class=\"data row2 col12\" >HundredGigE0/0/0/9</td>\n",
       "    </tr>\n",
       "  </tbody>\n",
       "</table>\n"
      ],
      "text/plain": [
       "<pandas.io.formats.style.Styler at 0x7e0b9c71a050>"
      ]
     },
     "metadata": {},
     "output_type": "display_data"
    },
    {
     "name": "stdout",
     "output_type": "stream",
     "text": [
      "\n",
      "Time to print interfaces 211 seconds\n"
     ]
    },
    {
     "data": {
      "text/plain": [
       "'ddc64a4e-840a-40d8-85ea-e25eb5666f37'"
      ]
     },
     "execution_count": 9,
     "metadata": {},
     "output_type": "execute_result"
    }
   ],
   "source": [
    "from fabrictestbed_extensions.fablib.fablib import FablibManager\n",
    "fablib = FablibManager()\n",
    "\n",
    "SLICE      = \"dpdk-basicfwd\"\n",
    "SITE       = \"STAR\"\n",
    "IMAGE      = \"default_ubuntu_24\"\n",
    "CORES      = 8\n",
    "RAM_GB     = 16\n",
    "DISK_GB    = 100\n",
    "\n",
    "slice = fablib.new_slice(name=SLICE)\n",
    "\n",
    "nodes, ifaces = [], []\n",
    "\n",
    "node1 = slice.add_node(name=\"h1\", site=SITE, image=IMAGE, cores=CORES, ram=RAM_GB, disk=DISK_GB)\n",
    "\n",
    "comp1 = node1.add_component(model=\"NIC_Basic\", name=\"h1_basic_1\")\n",
    "iface1 = comp1.get_interfaces()[0]\n",
    "iface1.set_mode(\"manual\")\n",
    "ifaces.append(iface1)\n",
    "\n",
    "comp2 = node1.add_component(model=\"NIC_Basic\", name=\"h1_basic_2\")\n",
    "iface2 = comp2.get_interfaces()[0]\n",
    "iface2.set_mode(\"manual\")\n",
    "ifaces.append(iface2)\n",
    "\n",
    "nodes.append(node1)\n",
    "\n",
    "node2 = slice.add_node(name=\"h2\", site=SITE, image=IMAGE, cores=CORES, ram=RAM_GB, disk=DISK_GB)\n",
    "\n",
    "comp1 = node2.add_component(model=\"NIC_Basic\", name=\"h2_basic_1\")\n",
    "iface1 = comp1.get_interfaces()[0]\n",
    "iface1.set_mode(\"manual\")\n",
    "ifaces.append(iface1)\n",
    "\n",
    "nodes.append(node2)\n",
    "\n",
    "slice.add_l2network(name=\"dpdk_net\", interfaces=ifaces)\n",
    "\n",
    "slice.submit(wait=True)"
   ]
  },
  {
   "cell_type": "code",
   "execution_count": 44,
   "id": "8f8940a1-68a6-45ff-b58a-746925c7c62b",
   "metadata": {},
   "outputs": [],
   "source": [
    "from fabrictestbed_extensions.fablib.attestable_switch import Attestable_Switch\n",
    "from fabrictestbed_extensions.fablib.fablib import FablibManager\n",
    "\n",
    "slice_name = \"dpdk-basicfwd\"\n",
    "\n",
    "fablib = FablibManager()\n",
    "slice = fablib.get_slice(name=slice_name)\n",
    "\n",
    "nodes = []\n",
    "nodes.append(slice.get_node(name=\"h1\"))\n",
    "nodes.append(slice.get_node(name=\"h2\"))"
   ]
  },
  {
   "cell_type": "code",
   "execution_count": 7,
   "id": "a6838d67-d836-48de-b8f7-f61d4b1d8a8c",
   "metadata": {},
   "outputs": [],
   "source": [
    "# slice.delete()"
   ]
  },
  {
   "cell_type": "code",
   "execution_count": 20,
   "id": "85ad25bd-865d-4ed3-b9c0-a243b809339a",
   "metadata": {},
   "outputs": [
    {
     "name": "stdout",
     "output_type": "stream",
     "text": [
      "Hit:1 http://security.ubuntu.com/ubuntu noble-security InRelease\n",
      "Hit:2 http://nova.clouds.archive.ubuntu.com/ubuntu noble InRelease\n",
      "Hit:3 http://nova.clouds.archive.ubuntu.com/ubuntu noble-updates InRelease\n",
      "Hit:4 http://nova.clouds.archive.ubuntu.com/ubuntu noble-backports InRelease\n",
      "Reading package lists...\n",
      "Reading package lists...\n",
      "Building dependency tree...\n",
      "Reading state information...\n",
      "build-essential is already the newest version (12.10ubuntu1).\n",
      "git is already the newest version (1:2.43.0-1ubuntu7.2).\n",
      "git set to manually installed.\n",
      "libnuma-dev is already the newest version (2.0.18-1build1).\n",
      "software-properties-common is already the newest version (0.99.49.2).\n",
      "software-properties-common set to manually installed.\n",
      "The following NEW packages will be installed:\n",
      "  meson ninja-build\n",
      "0 upgraded, 2 newly installed, 0 to remove and 214 not upgraded.\n",
      "Need to get 733 kB of archives.\n",
      "After this operation, 4213 kB of additional disk space will be used.\n",
      "Get:1 http://nova.clouds.archive.ubuntu.com/ubuntu noble/universe amd64 ninja-build amd64 1.11.1-2 [129 kB]\n",
      "Get:2 http://nova.clouds.archive.ubuntu.com/ubuntu noble/universe amd64 meson all 1.3.2-1ubuntu1 [604 kB]\n",
      "\u001b[31mdebconf: unable to initialize frontend: Dialog\n",
      "debconf: (Dialog frontend will not work on a dumb terminal, an emacs shell buffer, or without a controlling terminal.)\n",
      "debconf: falling back to frontend: Readline\n",
      "\u001b[0m\u001b[31mdebconf: unable to initialize frontend: Readline\n",
      "debconf: (This frontend requires a controlling tty.)\n",
      "debconf: falling back to frontend: Teletype\n",
      "\u001b[0m\u001b[31mdpkg-preconfigure: unable to re-open stdin: \n",
      "\u001b[0mFetched 733 kB in 0s (3214 kB/s)\n",
      "Selecting previously unselected package ninja-build.\n",
      "(Reading database ... 78140 files and directories currently installed.)\n",
      "Preparing to unpack .../ninja-build_1.11.1-2_amd64.deb ...\n",
      "Unpacking ninja-build (1.11.1-2) ...\n",
      "Selecting previously unselected package meson.\n",
      "Preparing to unpack .../meson_1.3.2-1ubuntu1_all.deb ...\n",
      "Unpacking meson (1.3.2-1ubuntu1) ...\n",
      "Setting up ninja-build (1.11.1-2) ...\n",
      "Setting up meson (1.3.2-1ubuntu1) ...\n",
      "Processing triggers for man-db (2.12.0-4build2) ...\n",
      "\u001b[31mdebconf: unable to initialize frontend: Dialog\n",
      "debconf: (Dialog frontend will not work on a dumb terminal, an emacs shell buffer, or without a controlling terminal.)\n",
      "debconf: falling back to frontend: Readline\n",
      "\u001b[0m\u001b[31mdebconf: unable to initialize frontend: Readline\n",
      "debconf: (This frontend requires a controlling tty.)\n",
      "debconf: falling back to frontend: Teletype\n",
      "\u001b[0m\u001b[31m\n",
      "Running kernel seems to be up-to-date.\n",
      "\n",
      "Restarting services...\n",
      "\u001b[0m\u001b[31m\n",
      "Service restarts being deferred:\n",
      " /etc/needrestart/restart.d/dbus.service\n",
      " systemctl restart unattended-upgrades.service\n",
      "\n",
      "No containers need to be restarted.\n",
      "\n",
      "No user sessions are running outdated binaries.\n",
      "\n",
      "No VM guests are running outdated hypervisor (qemu) binaries on this host.\n",
      "\u001b[0m"
     ]
    },
    {
     "data": {
      "text/plain": [
       "('Hit:1 http://security.ubuntu.com/ubuntu noble-security InRelease\\nHit:2 http://nova.clouds.archive.ubuntu.com/ubuntu noble InRelease\\nHit:3 http://nova.clouds.archive.ubuntu.com/ubuntu noble-updates InRelease\\nHit:4 http://nova.clouds.archive.ubuntu.com/ubuntu noble-backports InRelease\\nReading package lists...\\nReading package lists...\\nBuilding dependency tree...\\nReading state information...\\nbuild-essential is already the newest version (12.10ubuntu1).\\ngit is already the newest version (1:2.43.0-1ubuntu7.2).\\ngit set to manually installed.\\nlibnuma-dev is already the newest version (2.0.18-1build1).\\nsoftware-properties-common is already the newest version (0.99.49.2).\\nsoftware-properties-common set to manually installed.\\nThe following NEW packages will be installed:\\n  meson ninja-build\\n0 upgraded, 2 newly installed, 0 to remove and 214 not upgraded.\\nNeed to get 733 kB of archives.\\nAfter this operation, 4213 kB of additional disk space will be used.\\nGet:1 http://nova.clouds.archive.ubuntu.com/ubuntu noble/universe amd64 ninja-build amd64 1.11.1-2 [129 kB]\\nGet:2 http://nova.clouds.archive.ubuntu.com/ubuntu noble/universe amd64 meson all 1.3.2-1ubuntu1 [604 kB]\\nFetched 733 kB in 0s (3214 kB/s)\\nSelecting previously unselected package ninja-build.\\r\\n(Reading database ... \\r(Reading database ... 5%\\r(Reading database ... 10%\\r(Reading database ... 15%\\r(Reading database ... 20%\\r(Reading database ... 25%\\r(Reading database ... 30%\\r(Reading database ... 35%\\r(Reading database ... 40%\\r(Reading database ... 45%\\r(Reading database ... 50%\\r(Reading database ... 55%\\r(Reading database ... 60%\\r(Reading database ... 65%\\r(Reading database ... 70%\\r(Reading database ... 75%\\r(Reading database ... 80%\\r(Reading database ... 85%\\r(Reading database ... 90%\\r(Reading database ... 95%\\r(Reading database ... 100%\\r(Reading database ... 78140 files and directories currently installed.)\\r\\nPreparing to unpack .../ninja-build_1.11.1-2_amd64.deb ...\\r\\nUnpacking ninja-build (1.11.1-2) ...\\r\\nSelecting previously unselected package meson.\\r\\nPreparing to unpack .../meson_1.3.2-1ubuntu1_all.deb ...\\r\\nUnpacking meson (1.3.2-1ubuntu1) ...\\r\\nSetting up ninja-build (1.11.1-2) ...\\r\\nSetting up meson (1.3.2-1ubuntu1) ...\\r\\nProcessing triggers for man-db (2.12.0-4build2) ...\\r\\n',\n",
       " 'debconf: unable to initialize frontend: Dialog\\ndebconf: (Dialog frontend will not work on a dumb terminal, an emacs shell buffer, or without a controlling terminal.)\\ndebconf: falling back to frontend: Readline\\ndebconf: unable to initialize frontend: Readline\\ndebconf: (This frontend requires a controlling tty.)\\ndebconf: falling back to frontend: Teletype\\ndpkg-preconfigure: unable to re-open stdin: \\ndebconf: unable to initialize frontend: Dialog\\ndebconf: (Dialog frontend will not work on a dumb terminal, an emacs shell buffer, or without a controlling terminal.)\\ndebconf: falling back to frontend: Readline\\ndebconf: unable to initialize frontend: Readline\\ndebconf: (This frontend requires a controlling tty.)\\ndebconf: falling back to frontend: Teletype\\n\\nRunning kernel seems to be up-to-date.\\n\\nRestarting services...\\n\\nService restarts being deferred:\\n /etc/needrestart/restart.d/dbus.service\\n systemctl restart unattended-upgrades.service\\n\\nNo containers need to be restarted.\\n\\nNo user sessions are running outdated binaries.\\n\\nNo VM guests are running outdated hypervisor (qemu) binaries on this host.\\n')"
      ]
     },
     "execution_count": 20,
     "metadata": {},
     "output_type": "execute_result"
    }
   ],
   "source": [
    "nodes[0].execute(\"sudo apt-get update -y && sudo apt-get install -y build-essential \\\n",
    "                        git \\\n",
    "                        libnuma-dev \\\n",
    "                        software-properties-common \\\n",
    "                        meson \\\n",
    "                        ninja-build\")"
   ]
  },
  {
   "cell_type": "code",
   "execution_count": null,
   "id": "aa6188f7-223d-44f7-a7ee-278f4f57a488",
   "metadata": {},
   "outputs": [],
   "source": [
    "nodes[0].execute(\"test -e dpdk-24.11.2.tar.xz || wget https://fast.dpdk.org/rel/dpdk-24.11.2.tar.xz && \\\n",
    "                        tar xJf dpdk-24.11.2.tar.xz && \\\n",
    "                        cd dpdk-stable-24.11.2 && \\\n",
    "                        sudo meson setup build && \\\n",
    "                        cd build && \\\n",
    "                        sudo ninja && \\\n",
    "                        sudo meson install && \\\n",
    "                        ldconfig\")"
   ]
  },
  {
   "cell_type": "code",
   "execution_count": 33,
   "id": "9efa4b42-f727-4437-9a11-5b862d3153e7",
   "metadata": {},
   "outputs": [
    {
     "data": {
      "text/plain": [
       "('', '')"
      ]
     },
     "execution_count": 33,
     "metadata": {},
     "output_type": "execute_result"
    }
   ],
   "source": [
    "nodes[0].execute(\"sudo python3 dpdk-stable-24.11.2/usertools/dpdk-hugepages.py -p 1G --setup 4G\")"
   ]
  },
  {
   "cell_type": "code",
   "execution_count": 62,
   "id": "f3f17da9-d814-4e56-bec7-717180d7a375",
   "metadata": {},
   "outputs": [
    {
     "name": "stdout",
     "output_type": "stream",
     "text": [
      "make -C /lib/modules/6.8.0-49-generic/build/ M=/home/ubuntu/dpdk-kmods/linux/igb_uio\n",
      "make[1]: Entering directory '/usr/src/linux-headers-6.8.0-49-generic'\n",
      "\u001b[31mwarning: the compiler differs from the one used to build the kernel\n",
      "  The kernel was built by: x86_64-linux-gnu-gcc-13 (Ubuntu 13.2.0-23ubuntu4) 13.2.0\n",
      "  You are using:           gcc-13 (Ubuntu 13.3.0-6ubuntu2~24.04) 13.3.0\n",
      "\u001b[0m  CC [M]  /home/ubuntu/dpdk-kmods/linux/igb_uio/igb_uio.o\n",
      "  MODPOST /home/ubuntu/dpdk-kmods/linux/igb_uio/Module.symvers\n",
      "  CC [M]  /home/ubuntu/dpdk-kmods/linux/igb_uio/igb_uio.mod.o\n",
      "  LD [M]  /home/ubuntu/dpdk-kmods/linux/igb_uio/igb_uio.ko\n",
      "  BTF [M] /home/ubuntu/dpdk-kmods/linux/igb_uio/igb_uio.ko\n",
      "make[1]: Leaving directory '/usr/src/linux-headers-6.8.0-49-generic'\n",
      "\u001b[31mSkipping BTF generation for /home/ubuntu/dpdk-kmods/linux/igb_uio/igb_uio.ko due to unavailability of vmlinux\n",
      "\u001b[0m"
     ]
    },
    {
     "data": {
      "text/plain": [
       "(\"make -C /lib/modules/6.8.0-49-generic/build/ M=/home/ubuntu/dpdk-kmods/linux/igb_uio\\nmake[1]: Entering directory '/usr/src/linux-headers-6.8.0-49-generic'\\n  CC [M]  /home/ubuntu/dpdk-kmods/linux/igb_uio/igb_uio.o\\n  MODPOST /home/ubuntu/dpdk-kmods/linux/igb_uio/Module.symvers\\n  CC [M]  /home/ubuntu/dpdk-kmods/linux/igb_uio/igb_uio.mod.o\\n  LD [M]  /home/ubuntu/dpdk-kmods/linux/igb_uio/igb_uio.ko\\n  BTF [M] /home/ubuntu/dpdk-kmods/linux/igb_uio/igb_uio.ko\\nmake[1]: Leaving directory '/usr/src/linux-headers-6.8.0-49-generic'\\n\",\n",
       " 'warning: the compiler differs from the one used to build the kernel\\n  The kernel was built by: x86_64-linux-gnu-gcc-13 (Ubuntu 13.2.0-23ubuntu4) 13.2.0\\n  You are using:           gcc-13 (Ubuntu 13.3.0-6ubuntu2~24.04) 13.3.0\\nSkipping BTF generation for /home/ubuntu/dpdk-kmods/linux/igb_uio/igb_uio.ko due to unavailability of vmlinux\\n')"
      ]
     },
     "execution_count": 62,
     "metadata": {},
     "output_type": "execute_result"
    }
   ],
   "source": [
    "nodes[0].execute(\"test -d dpdk-kmods || git clone https://github.com/DPDK/dpdk-kmods.git && cd dpdk-kmods/linux/igb_uio && make && sudo modprobe uio && sudo insmod igb_uio.ko\")"
   ]
  },
  {
   "cell_type": "code",
   "execution_count": 63,
   "id": "d6c681d4-ce4e-4a65-a6a9-35ece20f3163",
   "metadata": {},
   "outputs": [
    {
     "name": "stdout",
     "output_type": "stream",
     "text": [
      "igb_uio                24576  0\n",
      "uio                    28672  1 igb_uio\n"
     ]
    },
    {
     "data": {
      "text/plain": [
       "('igb_uio                24576  0\\nuio                    28672  1 igb_uio\\n',\n",
       " '')"
      ]
     },
     "execution_count": 63,
     "metadata": {},
     "output_type": "execute_result"
    }
   ],
   "source": [
    "nodes[0].execute(\"sudo modprobe uio && sudo modprobe igb_uio && lsmod | grep -E 'igb_uio|uio'\")"
   ]
  },
  {
   "cell_type": "code",
   "execution_count": 64,
   "id": "e088620a-453c-496c-8e47-1966e6e25634",
   "metadata": {},
   "outputs": [
    {
     "name": "stdout",
     "output_type": "stream",
     "text": [
      "\n",
      "Network devices using kernel driver\n",
      "===================================\n",
      "0000:03:00.0 'Virtio 1.0 network device 1041' if=enp3s0 drv=virtio-pci unused=igb_uio *Active*\n",
      "0000:07:00.0 'MT28908 Family [ConnectX-6 Virtual Function] 101c' if=enp7s0 drv=mlx5_core unused=igb_uio \n",
      "0000:08:00.0 'MT28908 Family [ConnectX-6 Virtual Function] 101c' if=enp8s0 drv=mlx5_core unused=igb_uio \n",
      "\n",
      "No 'Baseband' devices detected\n",
      "==============================\n",
      "\n",
      "No 'Crypto' devices detected\n",
      "============================\n",
      "\n",
      "No 'DMA' devices detected\n",
      "=========================\n",
      "\n",
      "No 'Eventdev' devices detected\n",
      "==============================\n",
      "\n",
      "No 'Mempool' devices detected\n",
      "=============================\n",
      "\n",
      "No 'Compress' devices detected\n",
      "==============================\n",
      "\n",
      "Misc (rawdev) devices using kernel driver\n",
      "=========================================\n",
      "0000:04:00.0 'Virtio 1.0 block device 1042' drv=virtio-pci unused=igb_uio \n",
      "\n",
      "No 'Regex' devices detected\n",
      "===========================\n",
      "\n",
      "No 'ML' devices detected\n",
      "========================\n"
     ]
    },
    {
     "data": {
      "text/plain": [
       "(\"\\nNetwork devices using kernel driver\\n===================================\\n0000:03:00.0 'Virtio 1.0 network device 1041' if=enp3s0 drv=virtio-pci unused=igb_uio *Active*\\n0000:07:00.0 'MT28908 Family [ConnectX-6 Virtual Function] 101c' if=enp7s0 drv=mlx5_core unused=igb_uio \\n0000:08:00.0 'MT28908 Family [ConnectX-6 Virtual Function] 101c' if=enp8s0 drv=mlx5_core unused=igb_uio \\n\\nNo 'Baseband' devices detected\\n==============================\\n\\nNo 'Crypto' devices detected\\n============================\\n\\nNo 'DMA' devices detected\\n=========================\\n\\nNo 'Eventdev' devices detected\\n==============================\\n\\nNo 'Mempool' devices detected\\n=============================\\n\\nNo 'Compress' devices detected\\n==============================\\n\\nMisc (rawdev) devices using kernel driver\\n=========================================\\n0000:04:00.0 'Virtio 1.0 block device 1042' drv=virtio-pci unused=igb_uio \\n\\nNo 'Regex' devices detected\\n===========================\\n\\nNo 'ML' devices detected\\n========================\\n\",\n",
       " '')"
      ]
     },
     "execution_count": 64,
     "metadata": {},
     "output_type": "execute_result"
    }
   ],
   "source": [
    "nodes[0].execute(\"python3 dpdk-stable-24.11.2/usertools/dpdk-devbind.py -s\")"
   ]
  },
  {
   "cell_type": "code",
   "execution_count": 67,
   "id": "fc7be608-44a8-48ee-b72b-076704374939",
   "metadata": {},
   "outputs": [
    {
     "data": {
      "text/plain": [
       "('', '')"
      ]
     },
     "execution_count": 67,
     "metadata": {},
     "output_type": "execute_result"
    }
   ],
   "source": [
    "nodes[0].execute(\"sudo python3 dpdk-stable-24.11.2/usertools/dpdk-devbind.py -b igb_uio 0000:07:00.0\")"
   ]
  },
  {
   "cell_type": "code",
   "execution_count": 68,
   "id": "9b4743f9-181d-4bd6-8976-63682e65b2f2",
   "metadata": {},
   "outputs": [
    {
     "data": {
      "text/plain": [
       "('', '')"
      ]
     },
     "execution_count": 68,
     "metadata": {},
     "output_type": "execute_result"
    }
   ],
   "source": [
    "nodes[0].execute(\"sudo python3 dpdk-stable-24.11.2/usertools/dpdk-devbind.py -b igb_uio 0000:08:00.0\")"
   ]
  },
  {
   "cell_type": "code",
   "execution_count": 76,
   "id": "9cc59f27-fab9-4921-bdd8-3616b0d3965f",
   "metadata": {},
   "outputs": [
    {
     "name": "stdout",
     "output_type": "stream",
     "text": [
      "\n",
      "Network devices using DPDK-compatible driver\n",
      "============================================\n",
      "0000:07:00.0 'MT28908 Family [ConnectX-6 Virtual Function] 101c' drv=igb_uio unused=mlx5_core\n",
      "0000:08:00.0 'MT28908 Family [ConnectX-6 Virtual Function] 101c' drv=igb_uio unused=mlx5_core\n",
      "\n",
      "Network devices using kernel driver\n",
      "===================================\n",
      "0000:03:00.0 'Virtio 1.0 network device 1041' if=enp3s0 drv=virtio-pci unused=igb_uio *Active*\n",
      "\n",
      "No 'Baseband' devices detected\n",
      "==============================\n",
      "\n",
      "No 'Crypto' devices detected\n",
      "============================\n",
      "\n",
      "No 'DMA' devices detected\n",
      "=========================\n",
      "\n",
      "No 'Eventdev' devices detected\n",
      "==============================\n",
      "\n",
      "No 'Mempool' devices detected\n",
      "=============================\n",
      "\n",
      "No 'Compress' devices detected\n",
      "==============================\n",
      "\n",
      "Misc (rawdev) devices using kernel driver\n",
      "=========================================\n",
      "0000:04:00.0 'Virtio 1.0 block device 1042' drv=virtio-pci unused=igb_uio \n",
      "\n",
      "No 'Regex' devices detected\n",
      "===========================\n",
      "\n",
      "No 'ML' devices detected\n",
      "========================\n"
     ]
    },
    {
     "data": {
      "text/plain": [
       "(\"\\nNetwork devices using DPDK-compatible driver\\n============================================\\n0000:07:00.0 'MT28908 Family [ConnectX-6 Virtual Function] 101c' drv=igb_uio unused=mlx5_core\\n0000:08:00.0 'MT28908 Family [ConnectX-6 Virtual Function] 101c' drv=igb_uio unused=mlx5_core\\n\\nNetwork devices using kernel driver\\n===================================\\n0000:03:00.0 'Virtio 1.0 network device 1041' if=enp3s0 drv=virtio-pci unused=igb_uio *Active*\\n\\nNo 'Baseband' devices detected\\n==============================\\n\\nNo 'Crypto' devices detected\\n============================\\n\\nNo 'DMA' devices detected\\n=========================\\n\\nNo 'Eventdev' devices detected\\n==============================\\n\\nNo 'Mempool' devices detected\\n=============================\\n\\nNo 'Compress' devices detected\\n==============================\\n\\nMisc (rawdev) devices using kernel driver\\n=========================================\\n0000:04:00.0 'Virtio 1.0 block device 1042' drv=virtio-pci unused=igb_uio \\n\\nNo 'Regex' devices detected\\n===========================\\n\\nNo 'ML' devices detected\\n========================\\n\",\n",
       " '')"
      ]
     },
     "execution_count": 76,
     "metadata": {},
     "output_type": "execute_result"
    }
   ],
   "source": [
    "nodes[0].execute(\"python3 dpdk-stable-24.11.2/usertools/dpdk-devbind.py -s\")"
   ]
  },
  {
   "cell_type": "code",
   "execution_count": null,
   "id": "f8ef339b-80fc-4bff-8f7e-36a65c07b183",
   "metadata": {},
   "outputs": [],
   "source": [
    "basicfwd_setup = r\"\"\"\n",
    "test -d dpdk || git clone --depth 1 https://github.com/DPDK/dpdk.git ~/dpdk\n",
    "cd dpdk\n",
    "meson setup build -Dexamples=skeleton --prefix=/usr/local\n",
    "ninja -C build\n",
    "sudo ninja -C build install\n",
    "sudo ldconfig\n",
    "\"\"\"\n",
    "\n",
    "nodes[0].execute(basicfwd_setup)"
   ]
  },
  {
   "cell_type": "code",
   "execution_count": 77,
   "id": "49c66b39-d0f0-4a71-be2a-0fb595eef14a",
   "metadata": {},
   "outputs": [
    {
     "name": "stdout",
     "output_type": "stream",
     "text": [
      "\u001b[31mEAL: Detected CPU lcores: 8\n",
      "EAL: Detected NUMA nodes: 1\n",
      "EAL: Detected static linkage of DPDK\n",
      "\u001b[0m\u001b[31mEAL: Multi-process socket /var/run/dpdk/rte/mp_socket\n",
      "EAL: Selected IOVA mode 'PA'\n",
      "\u001b[0m\u001b[31mEAL: Error - exiting with code: 1\n",
      "Error: number of ports must be even\n",
      "\u001b[0m"
     ]
    },
    {
     "data": {
      "text/plain": [
       "('',\n",
       " \"EAL: Detected CPU lcores: 8\\nEAL: Detected NUMA nodes: 1\\nEAL: Detected static linkage of DPDK\\nEAL: Multi-process socket /var/run/dpdk/rte/mp_socket\\nEAL: Selected IOVA mode 'PA'\\nEAL: Error - exiting with code: 1\\nError: number of ports must be even\\n\")"
      ]
     },
     "execution_count": 77,
     "metadata": {},
     "output_type": "execute_result"
    }
   ],
   "source": [
    "nodes[0].execute(\"\"\"\n",
    "sudo dpdk/build/examples/dpdk-skeleton \\\\\n",
    "     -l 1 -n 4 -a 0000:07:00.0 -a 0000:08:00.0\n",
    "\"\"\")"
   ]
  },
  {
   "cell_type": "code",
   "execution_count": null,
   "id": "bcf80675-8f25-4413-bd3f-d39fb04aca48",
   "metadata": {},
   "outputs": [],
   "source": []
  }
 ],
 "metadata": {
  "kernelspec": {
   "display_name": "Python 3 (ipykernel)",
   "language": "python",
   "name": "python3"
  },
  "language_info": {
   "codemirror_mode": {
    "name": "ipython",
    "version": 3
   },
   "file_extension": ".py",
   "mimetype": "text/x-python",
   "name": "python",
   "nbconvert_exporter": "python",
   "pygments_lexer": "ipython3",
   "version": "3.11.9"
  }
 },
 "nbformat": 4,
 "nbformat_minor": 5
}
